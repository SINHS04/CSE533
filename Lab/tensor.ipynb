{
 "cells": [
  {
   "cell_type": "markdown",
   "metadata": {},
   "source": [
    "# learn how to use 'tensor'"
   ]
  },
  {
   "cell_type": "code",
   "execution_count": 22,
   "metadata": {},
   "outputs": [],
   "source": [
    "import torch\n",
    "import numpy as np"
   ]
  },
  {
   "cell_type": "markdown",
   "metadata": {},
   "source": [
    "### Class & function\n",
    " - Tensor(input, device)\n",
    " - tensor(input, device)\n",
    " - dtype\n",
    " - device\n",
    " - requires_grad\n",
    " - size()\n",
    " - shape"
   ]
  },
  {
   "cell_type": "code",
   "execution_count": 15,
   "metadata": {},
   "outputs": [
    {
     "name": "stdout",
     "output_type": "stream",
     "text": [
      "torch.float32\n",
      "cpu\n",
      "False\n",
      "torch.Size([2, 3])\n",
      "torch.Size([2, 3])\n"
     ]
    }
   ],
   "source": [
    "t1 = torch.Tensor([[1, 2, 3], [1, 2, 3]], device='cpu')\n",
    "\n",
    "print(t1.dtype)\n",
    "print(t1.device)\n",
    "print(t1.requires_grad) # True : maintain gradient\n",
    "print(t1.size())\n",
    "print(t1.shape)"
   ]
  },
  {
   "cell_type": "code",
   "execution_count": 17,
   "metadata": {},
   "outputs": [
    {
     "name": "stdout",
     "output_type": "stream",
     "text": [
      "torch.int64\n"
     ]
    }
   ],
   "source": [
    "t2 = torch.tensor([1, 2, 3], device='cpu')\n",
    "\n",
    "print(t2.dtype)\n",
    "print(t2.device)\n",
    "print(t2.requires_grad)\n",
    "print(t2.size())\n",
    "print(t2.shape)"
   ]
  },
  {
   "cell_type": "code",
   "execution_count": 20,
   "metadata": {},
   "outputs": [
    {
     "name": "stdout",
     "output_type": "stream",
     "text": [
      "1\n",
      "2\n"
     ]
    }
   ],
   "source": [
    "t3 = torch.Tensor([[1, 2], [3, 4]])\n",
    "\n",
    "print(t2.ndim)\n",
    "print(t3.ndim)"
   ]
  },
  {
   "cell_type": "markdown",
   "metadata": {},
   "source": [
    "# initialization tensor"
   ]
  },
  {
   "cell_type": "markdown",
   "metadata": {},
   "source": [
    "### Class & function\n",
    " - Tensor(input)\n",
    " - tensor(input)\n",
    " - as_tensor(input)"
   ]
  },
  {
   "cell_type": "code",
   "execution_count": 30,
   "metadata": {},
   "outputs": [
    {
     "name": "stdout",
     "output_type": "stream",
     "text": [
      "tensor([1.])\n",
      "tensor([1])\n",
      "tensor([1])\n"
     ]
    }
   ],
   "source": [
    "l1 = [1]\n",
    "t1 = torch.Tensor(l1)   # deep copy\n",
    "\n",
    "l1[0] = 100\n",
    "\n",
    "l1 = [1]\n",
    "t2 = torch.tensor(l1)   # deep copy\n",
    "\n",
    "l1[0] = 100\n",
    "\n",
    "l1 = [1]\n",
    "t3 = torch.as_tensor(l1)    # deep copy\n",
    "\n",
    "l1[0] = 100\n",
    "\n",
    "print(t1)\n",
    "print(t2)\n",
    "print(t3)"
   ]
  },
  {
   "cell_type": "code",
   "execution_count": 29,
   "metadata": {},
   "outputs": [
    {
     "name": "stdout",
     "output_type": "stream",
     "text": [
      "tensor([1.])\n",
      "tensor([1], dtype=torch.int32)\n",
      "tensor([100], dtype=torch.int32)\n"
     ]
    }
   ],
   "source": [
    "l2 = np.array([1])\n",
    "t1 = torch.Tensor(l2)   # deep copy\n",
    "\n",
    "l2[0] = 100\n",
    "\n",
    "l2 = np.array([1])\n",
    "t2 = torch.tensor(l2)   # deep copy\n",
    "\n",
    "l2[0] = 100\n",
    "\n",
    "l2 = np.array([1])\n",
    "t3 = torch.as_tensor(l2)    # shallow copy\n",
    "\n",
    "l2[0] = 100\n",
    "\n",
    "print(t1)\n",
    "print(t2)\n",
    "print(t3)"
   ]
  },
  {
   "cell_type": "markdown",
   "metadata": {},
   "source": [
    "## initialization with constant values"
   ]
  },
  {
   "cell_type": "markdown",
   "metadata": {},
   "source": [
    "### function\n",
    " - ones\n",
    " - ones_like\n",
    " - zeros\n",
    " - zeors_like\n",
    " - empty\n",
    " - empty_like\n",
    " - eye"
   ]
  },
  {
   "cell_type": "code",
   "execution_count": 34,
   "metadata": {},
   "outputs": [
    {
     "name": "stdout",
     "output_type": "stream",
     "text": [
      "tensor([1., 1., 1., 1., 1.])\n",
      "tensor([0., 0., 0., 0., 0.])\n"
     ]
    }
   ],
   "source": [
    "t1 = torch.ones(size=(5,))  # if size=(5), it occurs error\n",
    "t1_like = torch.zeros_like(input=t1)    # same shape with t1, but init into 0 values\n",
    "\n",
    "print(t1)\n",
    "print(t1_like)"
   ]
  },
  {
   "cell_type": "code",
   "execution_count": 36,
   "metadata": {},
   "outputs": [
    {
     "name": "stdout",
     "output_type": "stream",
     "text": [
      "tensor([0., 0., 0., 0.])\n",
      "tensor([1., 1., 1., 1.])\n"
     ]
    }
   ],
   "source": [
    "t = torch.zeros(size=(4,))  # opposite with ones\n",
    "t_like = torch.ones_like(input=t)   # opposite with zeors_like\n",
    "\n",
    "print(t)\n",
    "print(t_like)"
   ]
  },
  {
   "cell_type": "code",
   "execution_count": 37,
   "metadata": {},
   "outputs": [
    {
     "name": "stdout",
     "output_type": "stream",
     "text": [
      "tensor([[1., 0., 0.],\n",
      "        [0., 1., 0.],\n",
      "        [0., 0., 1.]])\n"
     ]
    }
   ],
   "source": [
    "t = torch.eye(n=3)\n",
    "print(t)"
   ]
  },
  {
   "cell_type": "markdown",
   "metadata": {},
   "source": [
    "## initialization with random values\n",
    " - randint(low, high, size)\n",
    " - rand(size)\n",
    " - randn(size)\n",
    " - normal(mean, std, size)\n",
    " - linspace(start, end, steps)\n",
    " - arange(start, end, steps) or arange(end)\n",
    " - manual_seed(seed)"
   ]
  },
  {
   "cell_type": "code",
   "execution_count": 69,
   "metadata": {},
   "outputs": [
    {
     "name": "stdout",
     "output_type": "stream",
     "text": [
      "tensor([[15, 17]])\n",
      "torch.int64\n",
      "tensor([[0.9397, 0.8656, 0.5207]])\n",
      "torch.float32\n",
      "tensor([[-0.9610, -0.6572,  0.0337]])\n",
      "torch.float32\n",
      "tensor([[10.5095,  8.7066],\n",
      "        [10.0326,  8.0829],\n",
      "        [11.1867,  8.9653]])\n",
      "torch.float32\n",
      "tensor([0.0000, 2.5000, 5.0000])\n",
      "torch.float32\n",
      "tensor([0, 1, 2, 3, 4])\n",
      "torch.int64\n"
     ]
    }
   ],
   "source": [
    "t = torch.randint(low=10, high=20, size=(1, 2)) # int64 between low and high\n",
    "print(t)\n",
    "print(t.dtype)\n",
    "\n",
    "t = torch.rand(size=(1, 3)) # float32 between 0 and 1\n",
    "print(t)\n",
    "print(t.dtype)\n",
    "\n",
    "t = torch.randn(size=(1, 3))    # float32 between 0 and 1 which is nomalized\n",
    "print(t)\n",
    "print(t.dtype)\n",
    "\n",
    "t = torch.normal(mean=10.0, std=1.0, size=(3, 2))   # float32 which is nomalize with given mean and std\n",
    "print(t)\n",
    "print(t.dtype)\n",
    "\n",
    "t = torch.linspace(start=0.0, end=5.0, steps=3) # give values which are evenly spaced from start to end\n",
    "print(t)\n",
    "print(t.dtype)\n",
    "\n",
    "t = torch.arange(5) # give sequential values\n",
    "print(t)\n",
    "print(t.dtype)"
   ]
  },
  {
   "cell_type": "code",
   "execution_count": 75,
   "metadata": {},
   "outputs": [
    {
     "name": "stdout",
     "output_type": "stream",
     "text": [
      "tensor([[0.8823, 0.9150, 0.3829],\n",
      "        [0.9593, 0.3904, 0.6009]])\n",
      "tensor([[0.2566, 0.7936, 0.9408],\n",
      "        [0.1332, 0.9346, 0.5936]])\n",
      "tensor([[0.8823, 0.9150, 0.3829],\n",
      "        [0.9593, 0.3904, 0.6009]])\n",
      "tensor([[0.2566, 0.7936, 0.9408],\n",
      "        [0.1332, 0.9346, 0.5936]])\n"
     ]
    }
   ],
   "source": [
    "seed = 1729\n",
    "\n",
    "torch.manual_seed(seed) # give a seed\n",
    "\n",
    "random = torch.rand(2, 3)\n",
    "print(random)\n",
    "\n",
    "random = torch.rand(2, 3)\n",
    "print(random)\n",
    "\n",
    "torch.manual_seed(seed) # generate same value tensor\n",
    "\n",
    "random = torch.rand(2, 3)\n",
    "print(random)\n",
    "\n",
    "random = torch.rand(2, 3)\n",
    "print(random)"
   ]
  },
  {
   "cell_type": "markdown",
   "metadata": {},
   "source": [
    "## type conversion\n",
    " - float()  == float32() == dtype=torch.float32 == dtype=torch.float\n",
    " - double() == float64() == same\n",
    " - long()   == int64()   == same\n",
    " - int()    == int32()   == same\n",
    " - short()  == int16()   == same"
   ]
  },
  {
   "cell_type": "code",
   "execution_count": 91,
   "metadata": {},
   "outputs": [
    {
     "name": "stdout",
     "output_type": "stream",
     "text": [
      "tensor([[11.1366, 12.0802,  1.1674],\n",
      "        [19.2329,  7.3395,  7.3704]], dtype=torch.float64)\n",
      "torch.float32\n",
      "torch.int64\n",
      "torch.float64\n",
      "torch.int64\n",
      "torch.int32\n",
      "torch.float32\n",
      "torch.int64\n",
      "tensor([[1, 2]])\n",
      "torch.float64\n"
     ]
    }
   ],
   "source": [
    "t = torch.rand((2, 3), dtype=torch.float64) * 20    # same as numpy\n",
    "print(t)\n",
    "\n",
    "t = torch.ones((2, 3))\n",
    "print(t.dtype)\n",
    "\n",
    "t = t.to(torch.int64)\n",
    "print(t.dtype)\n",
    "\n",
    "t = torch.zeros((10, 2)).double()   # dtype=torch.double == float64 == .double()\n",
    "print(t.dtype)\n",
    "\n",
    "t = torch.ones((10, 2)).long()\n",
    "print(t.dtype)\n",
    "\n",
    "t = torch.ones((10, 2)).int()\n",
    "print(t.dtype)\n",
    "\n",
    "t = torch.ones((10, 2)).float()\n",
    "print(t.dtype)\n",
    "\n",
    "t = torch.tensor([[1, 2]], dtype=torch.int64)\n",
    "print(t.dtype)\n",
    "print(t)\n",
    "\n",
    "t_double = torch.zeros((10, 2), dtype=torch.double)\n",
    "t_short = torch.ones((10, 2), dtype=torch.short)\n",
    "print((t_double * t_short).dtype)   # fit in larger dtype"
   ]
  },
  {
   "cell_type": "markdown",
   "metadata": {},
   "source": [
    "## tensor operations\n",
    " - add(t1, t2) == t1 + t2\n",
    " - sub(t1, t2) == t1 - t2\n",
    " - mul(t1, t2) == t1 * t2\n",
    " - div(t1, t2) == t1 / t2\n",
    " - dot(t1, t2)\n",
    " - mm(t1, t2)\n",
    " - bmm(t1, t2)\n",
    " - matmul(t1, t2)\n",
    "    - this function have diffrent operation due to input tensor shape"
   ]
  },
  {
   "cell_type": "code",
   "execution_count": 97,
   "metadata": {},
   "outputs": [
    {
     "name": "stdout",
     "output_type": "stream",
     "text": [
      "tensor([[2., 2., 2.],\n",
      "        [2., 2., 2.]])\n",
      "tensor([[2., 2., 2.],\n",
      "        [2., 2., 2.]])\n",
      "tensor([[0., 0., 0.],\n",
      "        [0., 0., 0.]])\n",
      "tensor([[0., 0., 0.],\n",
      "        [0., 0., 0.]])\n",
      "tensor([[1., 1., 1.],\n",
      "        [1., 1., 1.]])\n",
      "tensor([[1., 1., 1.],\n",
      "        [1., 1., 1.]])\n",
      "tensor([[1., 1., 1.],\n",
      "        [1., 1., 1.]])\n",
      "tensor([[1., 1., 1.],\n",
      "        [1., 1., 1.]])\n"
     ]
    }
   ],
   "source": [
    "t1 = torch.ones(size=(2, 3))\n",
    "t2 = torch.ones(size=(2, 3))\n",
    "t3 = torch.add(t1, t2)\n",
    "t4 = t1 + t2\n",
    "print(t3)   # same result\n",
    "print(t4)\n",
    "\n",
    "t3 = torch.sub(t1, t2)\n",
    "t4 = t1 - t2\n",
    "print(t3)   # same result\n",
    "print(t4)\n",
    "\n",
    "t3 = torch.mul(t1, t2)\n",
    "t4 = t1 * t2\n",
    "print(t3)   # same result\n",
    "print(t4)\n",
    "\n",
    "t3 = torch.div(t1, t2)\n",
    "t4 = t1 / t2\n",
    "print(t3)   # same result\n",
    "print(t4)"
   ]
  },
  {
   "cell_type": "code",
   "execution_count": 107,
   "metadata": {},
   "outputs": [
    {
     "name": "stdout",
     "output_type": "stream",
     "text": [
      "tensor(7)\n",
      "torch.Size([]) torch.float32\n",
      "tensor([[-2.1556,  1.3355],\n",
      "        [ 0.0635,  0.2531]])\n",
      "torch.Size([2, 2]) torch.float32\n",
      "tensor([[[-1.3138,  1.5804, -1.9574,  1.9792, -2.2693],\n",
      "         [-0.4199, -0.4170, -0.1332, -0.2363,  0.0924],\n",
      "         [ 2.1672,  0.2358, -1.8130, -3.1001, -3.6671]],\n",
      "\n",
      "        [[ 0.3788,  1.8271,  0.5129,  0.1567,  1.3297],\n",
      "         [-1.4071, -4.7723,  0.0095, -2.7939, -3.8810],\n",
      "         [-0.7108,  0.9634,  1.9953,  0.4371,  4.7223]],\n",
      "\n",
      "        [[ 0.6755,  1.6586, -0.6297,  0.1059, -0.1860],\n",
      "         [-0.9836, -0.1442, -0.5868, -0.1504,  2.3762],\n",
      "         [-0.6054,  3.1675,  0.0069,  1.8290,  1.5931]],\n",
      "\n",
      "        [[-0.5758,  0.6423, -0.8076, -0.6445,  0.0181],\n",
      "         [-1.7860, -1.0630, -0.0417,  1.5427,  0.7346],\n",
      "         [-0.1557, -0.0988, -0.8932,  0.6251, -0.1279]],\n",
      "\n",
      "        [[-2.0236, -3.0079, -3.3157, -3.0708, -4.3018],\n",
      "         [-0.8942, -0.0330, -0.4446, -0.0345,  0.2598],\n",
      "         [-0.3469,  1.4834,  0.1643,  0.6069,  1.2363]],\n",
      "\n",
      "        [[ 0.0897,  1.2072,  0.6933,  3.0668,  2.7138],\n",
      "         [-0.7532, -3.3264,  0.4063, -2.3925, -3.2063],\n",
      "         [-0.2502, -1.3245,  1.2870,  0.3273,  0.1420]],\n",
      "\n",
      "        [[ 0.3528, -2.1812, -0.1944,  1.7432, -1.4162],\n",
      "         [-2.6865,  1.5382,  1.7732, -3.4003, -4.0174],\n",
      "         [ 2.1020, -2.0404, -1.2676,  2.0163,  1.2752]],\n",
      "\n",
      "        [[ 0.2238,  0.2797, -0.9055, -1.3276,  0.2675],\n",
      "         [-1.5195, -1.7209, -2.2948, -2.5199,  3.9249],\n",
      "         [ 1.2872, -1.6679, -1.2409, -0.2546,  1.9661]],\n",
      "\n",
      "        [[-0.5774, -0.9194, -2.3419, -0.9339,  1.4481],\n",
      "         [-1.6912,  0.1760,  1.2049,  1.3747, -2.6857],\n",
      "         [ 0.1499,  1.0966, -0.7172,  2.2953, -1.7690]],\n",
      "\n",
      "        [[-3.6041, -3.7584, -0.2782,  0.6070,  0.8996],\n",
      "         [-0.6505, -1.2519, -1.2447, -0.3665, -0.3035],\n",
      "         [ 1.3682,  3.1124,  2.6841,  0.0121,  1.1566]]])\n",
      "torch.Size([10, 3, 5]) torch.float32\n"
     ]
    }
   ],
   "source": [
    "t = torch.dot(torch.tensor([2, 3]), torch.tensor([2, 1]))  # return scalar\n",
    "print(t)\n",
    "print(t.shape, t1.dtype)   # scalar shape is [](empty)\n",
    "\n",
    "t1 = torch.randn(2, 3)\n",
    "t2 = torch.randn(3, 2)\n",
    "t3 = torch.mm(t1, t2)   # matrix multiplication, 2 by 3 matrix * 3 by 2 matrix = 2 by 2 matrix\n",
    "print(t3)\n",
    "print(t3.shape, t3.dtype)\n",
    "\n",
    "t1 = torch.randn(10, 3, 4)\n",
    "t2 = torch.randn(10, 4, 5)\n",
    "# matrix multiplication in each batch, should have same size of first dimension(batch)\n",
    "# also, second and third dimension require the matrix multiplication conditions\n",
    "t3 = torch.bmm(t1, t2)  \n",
    "print(t3)\n",
    "print(t3.shape, t3.dtype)"
   ]
  },
  {
   "cell_type": "code",
   "execution_count": 118,
   "metadata": {},
   "outputs": [
    {
     "name": "stdout",
     "output_type": "stream",
     "text": [
      "tensor(10)\n",
      "torch.Size([]) torch.int64\n",
      "tensor([14, 14])\n",
      "torch.Size([2]) torch.int64\n",
      "tensor([[ 1.4777, -1.4428,  2.4095],\n",
      "        [-5.6580, -0.7669, -2.1990],\n",
      "        [-2.1852, -0.0415,  1.6347],\n",
      "        [ 4.7323, -1.6456, -2.7775],\n",
      "        [ 1.6278,  1.3732, -2.3977],\n",
      "        [ 0.1312,  0.4262, -4.4359],\n",
      "        [-1.7556,  2.5503,  0.0162],\n",
      "        [ 1.7866,  2.3301,  0.5956],\n",
      "        [ 1.6453,  0.3452, -2.1554],\n",
      "        [-1.3541, -2.6683, -3.3647]])\n",
      "torch.Size([10, 3]) torch.float32\n",
      "tensor([[[-2.2905e+00,  3.1359e-01,  2.3624e+00, -8.2984e-01,  5.2300e+00],\n",
      "         [ 8.1861e-01, -4.8396e-01,  3.5687e-01, -1.6698e+00, -1.6391e+00],\n",
      "         [-1.0551e+00, -1.3649e+00,  2.3021e-01,  5.1073e-01, -1.7613e+00]],\n",
      "\n",
      "        [[ 3.1310e-01,  7.8158e-01,  5.1641e-01,  1.8676e+00, -3.4355e+00],\n",
      "         [ 9.7856e-01, -5.8450e-01,  1.2196e-01, -2.0199e-01, -1.4100e+00],\n",
      "         [-8.6291e-01,  2.5384e-01, -4.0761e-01, -2.6518e-01,  2.2431e+00]],\n",
      "\n",
      "        [[-3.4529e+00,  2.5768e+00, -9.2231e-01, -2.7439e+00,  7.2081e-01],\n",
      "         [-7.2264e-01, -1.7100e+00, -1.6676e+00,  1.5003e+00,  4.8442e+00],\n",
      "         [-1.9833e+00, -9.7636e-01, -1.4541e+00, -6.8114e-01,  3.5390e+00]],\n",
      "\n",
      "        [[ 2.2821e-01, -9.0667e-01, -2.6582e-01, -4.6130e-01, -9.7720e-01],\n",
      "         [ 1.4813e+00, -8.5986e-01, -1.1172e+00, -1.2549e+00, -1.2754e+00],\n",
      "         [-8.6993e-01,  1.8884e+00, -3.1345e-01, -5.7400e-01,  4.1681e-01]],\n",
      "\n",
      "        [[-2.7551e+00,  3.6235e+00, -3.2200e-01, -3.4253e-01, -2.4592e+00],\n",
      "         [-1.8031e+00,  1.7483e+00,  7.5437e-01,  1.3394e+00, -1.9887e-01],\n",
      "         [-1.6262e+00, -5.1475e-01, -9.9791e-01, -2.2922e+00, -2.9714e-02]],\n",
      "\n",
      "        [[ 2.9222e+00,  3.8740e+00,  5.0851e-01,  3.4602e+00,  4.7875e+00],\n",
      "         [ 1.1725e+00,  1.3310e+00,  2.6743e-01,  1.6130e+00,  2.2213e+00],\n",
      "         [-1.2063e+00,  5.0704e-01,  1.4150e-01,  2.9107e+00,  5.6446e+00]],\n",
      "\n",
      "        [[-2.7038e+00, -1.0155e+00,  2.2213e+00,  1.8246e+00, -2.8947e+00],\n",
      "         [-7.0890e-01, -1.4049e+00,  1.5621e-01, -1.0018e-01, -4.7570e-01],\n",
      "         [ 1.3285e+00,  1.7545e-01,  1.1071e+00,  5.5040e-01,  1.3967e-01]],\n",
      "\n",
      "        [[-7.5362e-01,  8.3655e-04,  1.0707e+00,  4.1611e-01, -9.9971e-01],\n",
      "         [-3.7501e-01, -4.2763e+00,  2.8955e+00,  6.2519e-01,  1.0765e+00],\n",
      "         [-2.3278e+00, -9.8718e-01, -3.1350e-01,  2.7563e-01, -3.7416e+00]],\n",
      "\n",
      "        [[ 1.5024e+00, -1.0999e+00,  6.3485e-01,  2.2772e-01,  9.9581e-01],\n",
      "         [ 4.8035e-01, -1.9509e+00,  3.1682e+00, -2.7377e+00,  3.0708e+00],\n",
      "         [-5.4935e-01,  3.4739e-01, -2.2337e-01, -7.2783e-01, -5.8055e-01]],\n",
      "\n",
      "        [[ 1.2360e+00, -6.0681e-01,  6.2993e-01,  6.8894e-01,  1.9655e+00],\n",
      "         [ 3.4032e+00,  3.9950e-01, -1.8114e-01,  2.0321e-02,  2.5264e+00],\n",
      "         [-1.4849e+00, -1.4805e+00,  1.1840e+00,  1.7422e+00, -2.2138e-01]]])\n",
      "torch.Size([10, 3, 5]) torch.float32\n",
      "tensor([[[-4.5040e-01,  1.7079e-01, -6.4892e-02,  3.8787e-01, -5.3657e-01],\n",
      "         [-1.6264e+00,  1.2305e+00, -2.6203e+00,  8.9452e-01,  4.8320e-01],\n",
      "         [-1.5506e+00,  1.3383e-01, -1.6606e+00,  5.4353e-01, -1.3863e+00]],\n",
      "\n",
      "        [[-3.4134e+00, -2.7582e-01, -4.0365e+00,  7.3351e-01, -1.7596e+00],\n",
      "         [ 1.1488e-01,  2.1462e+00,  4.0361e-01,  1.3144e+00, -4.0867e-01],\n",
      "         [-1.5175e+00, -4.1544e+00, -2.3100e+00, -2.2220e+00, -2.2708e+00]],\n",
      "\n",
      "        [[-8.2929e-01, -1.8661e+00, -1.2360e+00, -9.6633e-01, -8.4873e-01],\n",
      "         [-4.4454e-01, -3.2098e+00, -1.2474e+00, -2.0257e+00, -1.2143e+00],\n",
      "         [-7.8123e-01,  1.8956e+00,  8.6727e-02,  1.6818e+00, -3.1482e-01]],\n",
      "\n",
      "        [[-2.2227e-01, -9.8129e-03, -1.6442e-01,  9.2767e-02,  4.0134e-01],\n",
      "         [-3.1471e+00, -3.5231e-01, -2.6623e+00,  1.0233e+00,  5.8713e-02],\n",
      "         [-3.2840e+00, -3.7750e+00, -3.7682e+00, -1.3055e+00, -3.1788e+00]],\n",
      "\n",
      "        [[-2.3625e+00, -1.5049e+00, -2.5637e+00, -1.6269e-01,  1.9548e-02],\n",
      "         [ 1.4218e+00,  3.4670e+00,  1.6807e+00,  1.6312e+00, -1.1051e+00],\n",
      "         [-1.5295e-01, -3.2531e-01, -1.3475e+00, -5.9349e-01, -1.8246e+00]],\n",
      "\n",
      "        [[ 9.5486e-01, -1.4391e+00,  6.8457e-01, -1.2549e+00,  9.3064e-02],\n",
      "         [ 3.6179e+00,  1.9949e+00,  3.7712e+00,  3.3438e-02,  2.8496e+00],\n",
      "         [ 1.7204e+00,  1.1609e+00,  1.7911e+00,  1.1806e-01, -1.3681e+00]],\n",
      "\n",
      "        [[ 1.5517e+00,  5.9016e-01,  1.0742e+00, -3.6195e-01, -1.5691e+00],\n",
      "         [-3.3153e+00, -3.1970e+00, -4.0682e+00, -1.0378e+00, -5.1220e-01],\n",
      "         [ 1.3563e+00, -3.1276e-01,  1.9360e+00, -4.1806e-01,  2.3869e-01]],\n",
      "\n",
      "        [[-1.2058e-02, -2.1595e+00, -3.4550e-01, -1.3956e+00, -2.5983e+00],\n",
      "         [-2.9492e+00, -3.9688e+00, -3.3999e+00, -1.5086e+00, -2.0058e+00],\n",
      "         [ 6.4844e-01, -3.1335e+00,  3.4891e-01, -2.1722e+00, -2.8891e+00]],\n",
      "\n",
      "        [[ 1.7013e-01, -9.6495e-02,  1.3261e+00,  3.1217e-01, -2.7566e-01],\n",
      "         [-5.6887e-01,  3.7254e+00, -4.1921e-01,  2.4169e+00,  5.2037e-01],\n",
      "         [-3.4428e-01,  7.8065e-01, -7.3753e-01,  4.3569e-01,  1.5780e+00]],\n",
      "\n",
      "        [[-2.3307e-01, -7.2962e-02,  4.0775e-01,  2.6868e-01, -4.3585e-01],\n",
      "         [-2.4381e+00,  8.9230e-01, -3.6834e+00,  8.7588e-01,  5.5383e-01],\n",
      "         [ 9.1926e-02,  9.2761e-01,  5.3372e-01,  6.7246e-01,  2.3669e-03]]])\n",
      "torch.Size([10, 3, 5]) torch.float32\n"
     ]
    }
   ],
   "source": [
    "t1 = torch.tensor([1, 2, 3])\n",
    "t2 = torch.tensor([3, 2, 1])\n",
    "t3 = torch.matmul(t1, t2)   # give dot product for each dimension\n",
    "print(t3)\n",
    "print(t3.shape, t3.dtype)\n",
    "\n",
    "t1 = torch.tensor([\n",
    "    [1, 2, 3],\n",
    "    [1, 2, 3]\n",
    "])\n",
    "t2 = torch.tensor([1, 2, 3])\n",
    "t3 = torch.matmul(t1, t2)   # give broadcasted dot product for each dimension\n",
    "print(t3)\n",
    "print(t3.shape, t3.dtype)\n",
    "\n",
    "t1 = torch.randn((10, 3, 4))\n",
    "t2 = torch.randn((4))\n",
    "t3 = torch.matmul(t1, t2)   # give broadcasted dot product for each dimension\n",
    "print(t3)\n",
    "print(t3.shape, t3.dtype)\n",
    "\n",
    "t1 = torch.randn((10, 3, 4))\n",
    "t2 = torch.randn((10, 4, 5))\n",
    "t3 = torch.matmul(t1, t2)   # bmm\n",
    "print(t3)\n",
    "print(t3.shape, t3.dtype)\n",
    "\n",
    "t1 = torch.randn((10, 3, 4))\n",
    "t2 = torch.randn((4, 5))\n",
    "t3 = torch.matmul(t1, t2)   # bmm\n",
    "print(t3)\n",
    "print(t3.shape, t3.dtype)"
   ]
  },
  {
   "cell_type": "markdown",
   "metadata": {},
   "source": [
    "## tensor broadcasting\n",
    "### tensor works like numpy array\n",
    " - tensor shape(size) goes with the bigger dimension.\n",
    " - if the smaller dimesion value is not the measure of the bigger one, then error occur\n",
    " - torch.pow(a, b) == a**b"
   ]
  },
  {
   "cell_type": "code",
   "execution_count": 121,
   "metadata": {},
   "outputs": [
    {
     "name": "stdout",
     "output_type": "stream",
     "text": [
      "tensor([2., 4., 6.])\n",
      "tensor([[-4, -4],\n",
      "        [-2, -2],\n",
      "        [ 0,  0]])\n",
      "tensor([[2., 3.],\n",
      "        [4., 5.],\n",
      "        [6., 7.]])\n",
      "tensor([[-2., -1.],\n",
      "        [ 0.,  1.],\n",
      "        [ 2.,  3.]])\n",
      "tensor([[ 0.,  2.],\n",
      "        [ 4.,  6.],\n",
      "        [ 8., 10.]])\n",
      "tensor([[0.0000, 0.5000],\n",
      "        [1.0000, 1.5000],\n",
      "        [2.0000, 2.5000]])\n"
     ]
    }
   ],
   "source": [
    "t = torch.tensor([1.0, 2.0, 3.0])\n",
    "n = 2.0\n",
    "print(t * n)    # to each tensor\n",
    "\n",
    "t1 = torch.tensor([[0, 1], [2, 3], [4, 5]])\n",
    "t2 = torch.tensor([4, 5])\n",
    "print(t1 - t2)  # to each tensor in dimension 2\n",
    "print(t1 + n)\n",
    "print(t1 - n)\n",
    "print(t1 * n)\n",
    "print(t1 / n)"
   ]
  },
  {
   "cell_type": "code",
   "execution_count": 126,
   "metadata": {},
   "outputs": [
    {
     "name": "stdout",
     "output_type": "stream",
     "text": [
      "torch.Size([3, 28, 28])\n",
      "torch.Size([3, 28, 28])\n"
     ]
    }
   ],
   "source": [
    "def normalize(x):\n",
    "    return x / 255\n",
    "\n",
    "t = torch.randn(3, 28, 28)\n",
    "print(t.shape)\n",
    "print(normalize(t).size())"
   ]
  },
  {
   "cell_type": "code",
   "execution_count": 133,
   "metadata": {},
   "outputs": [
    {
     "name": "stdout",
     "output_type": "stream",
     "text": [
      "tensor([[4, 3],\n",
      "        [3, 4]])\n",
      "tensor([[6, 7],\n",
      "        [2, 5]])\n",
      "tensor([[ 8,  9],\n",
      "        [ 7, 10]])\n",
      "tensor([[8, 6],\n",
      "        [5, 3]])\n",
      "tensor([[10,  8]])\n",
      "tensor([[12],\n",
      "        [ 9]])\n"
     ]
    }
   ],
   "source": [
    "t1 = torch.tensor([[1, 2], [0, 3]]) # shape : 2, 2\n",
    "t2 = torch.tensor([[3, 1]])         # shape : 1, 2\n",
    "t3 = torch.tensor([[5], [2]])       # shape : 2, 1\n",
    "t4 = torch.tensor([7])              # shape : 1\n",
    "print(t1 + t2)\n",
    "print(t1 + t3)\n",
    "print(t1 + t4)\n",
    "print(t2 + t3)\n",
    "print(t2 + t4)\n",
    "print(t3 + t4)"
   ]
  },
  {
   "cell_type": "code",
   "execution_count": 142,
   "metadata": {},
   "outputs": [
    {
     "name": "stdout",
     "output_type": "stream",
     "text": [
      "torch.Size([4, 3, 2])\n",
      "torch.Size([4, 3, 2])\n",
      "torch.Size([4, 3, 2])\n",
      "torch.Size([5, 2, 4, 1])\n"
     ]
    }
   ],
   "source": [
    "t1 = torch.ones(4, 3, 2)\n",
    "t2 = t1 * torch.rand(3, 2)\n",
    "print(t2.shape)\n",
    "\n",
    "t3 = t1 * torch.rand(3, 1)\n",
    "print(t3.shape)\n",
    "\n",
    "t4 = t1 * torch.rand(1, 2)\n",
    "print(t4.shape)\n",
    "\n",
    "t1 = torch.ones(5, 1, 4, 1)\n",
    "t2 = t1 * torch.rand(2, 1, 1)\n",
    "print(t2.shape)"
   ]
  },
  {
   "cell_type": "code",
   "execution_count": 147,
   "metadata": {},
   "outputs": [
    {
     "name": "stdout",
     "output_type": "stream",
     "text": [
      "tensor([5., 5., 5., 5.])\n",
      "tensor([125., 125., 125., 125.])\n",
      "tensor([  1.,   4.,  27., 256.])\n",
      "tensor([  1.,   4.,  27., 256.])\n"
     ]
    }
   ],
   "source": [
    "t = torch.ones(4) * 5\n",
    "print(t)\n",
    "print(torch.pow(t, 3))\n",
    "\n",
    "t = torch.arange(1., 5.)\n",
    "print(torch.pow(t, t))\n",
    "print(t**t)"
   ]
  },
  {
   "cell_type": "markdown",
   "metadata": {},
   "source": [
    "## tensor index slicing\n",
    " - 1:2\n",
    " - :-1"
   ]
  },
  {
   "cell_type": "code",
   "execution_count": 158,
   "metadata": {},
   "outputs": [
    {
     "name": "stdout",
     "output_type": "stream",
     "text": [
      "tensor([1, 2, 3, 4, 5])\n",
      "tensor([2, 2, 2])\n",
      "tensor(3)\n",
      "tensor([5, 5, 5])\n",
      "tensor([[1, 2, 3, 4, 5],\n",
      "        [1, 2, 3, 4, 5]])\n",
      "tensor([[4, 5],\n",
      "        [4, 5]])\n"
     ]
    },
    {
     "data": {
      "text/plain": [
       "tensor([[0., 1., 0.],\n",
       "        [0., 1., 0.],\n",
       "        [0., 1., 0.]])"
      ]
     },
     "execution_count": 158,
     "metadata": {},
     "output_type": "execute_result"
    }
   ],
   "source": [
    "t = torch.tensor([  # shape : 3, 5\n",
    "    [1, 2, 3, 4, 5],\n",
    "    [1, 2, 3, 4, 5],\n",
    "    [1, 2, 3, 4, 5]\n",
    "])\n",
    "print(t[1])\n",
    "print(t[:, 1])  # just : is need to express second dimesion.\n",
    "print(t[1, 2])\n",
    "print(t[:, -1])\n",
    "\n",
    "print(t[1:])\n",
    "print(t[1:, 3:])\n",
    "\n",
    "t = torch.zeros((6, 6))\n",
    "t[1:4, 2] = 1\n",
    "print(t)\n",
    "print(t[1:4, 1:4])"
   ]
  },
  {
   "cell_type": "markdown",
   "metadata": {},
   "source": [
    "## tensor reshaping\n",
    " - view()\n",
    " - reshape()\n",
    " - unsqueeze()\n",
    " - squeeze()\n",
    " - flatten() == torch.flatten()\n",
    " - permute() == torch.permute()\n",
    " - transpose() == torch.transpose()\n",
    " - t() == torch.t() -> 2D transpose"
   ]
  },
  {
   "cell_type": "code",
   "execution_count": 185,
   "metadata": {},
   "outputs": [
    {
     "name": "stdout",
     "output_type": "stream",
     "text": [
      "tensor([[1., 1.],\n",
      "        [1., 1.],\n",
      "        [1., 1.]])\n",
      "tensor([[1., 1., 1., 1., 1., 1.]])\n",
      "tensor([[0, 1, 2, 3],\n",
      "        [4, 5, 6, 7]])\n",
      "torch.Size([3])\n",
      "torch.Size([3, 1])\n",
      "torch.Size([1, 3])\n",
      "torch.Size([3])\n",
      "torch.Size([3, 1])\n",
      "torch.Size([2, 1, 3])\n",
      "torch.Size([12])\n",
      "torch.Size([120])\n",
      "torch.Size([3, 40])\n",
      "torch.Size([4, 3, 1, 2])\n",
      "torch.Size([4, 3, 1, 2])\n",
      "torch.Size([2, 1, 3, 4])\n",
      "torch.Size([2, 1])\n"
     ]
    }
   ],
   "source": [
    "t = torch.ones((2, 3))\n",
    "print(t.view(3, 2))\n",
    "print(t.reshape(1, 6))\n",
    "\n",
    "t = torch.arange(8).view(2, 4)\n",
    "print(t)\n",
    "\n",
    "t = torch.ones((1, 3, 1))\n",
    "print(t.squeeze().shape)    # remove all dimension 1\n",
    "print(t.squeeze(0).shape)   # remove dimesion at given index\n",
    "print(t.squeeze(-1).shape)\n",
    "\n",
    "t = torch.ones(3)\n",
    "print(t.shape)\n",
    "print(t.unsqueeze(1).shape) # add dimension at given index\n",
    "# unsqueeze needs more than one argument\n",
    "\n",
    "t = torch.ones(2, 3)\n",
    "print(t.unsqueeze(1).shape) # will be 2, 1, 3\n",
    "\n",
    "t = torch.ones(3, 4)\n",
    "print(t.flatten().shape) # will be 12\n",
    "\n",
    "t = torch.ones(3, 4, 5, 2)\n",
    "print(t.flatten().shape)    # make tensor into 1 dimesion\n",
    "print(torch.flatten(t, start_dim=1).shape)  # start flatten after given start_dim\n",
    "\n",
    "t = torch.ones(1, 2, 3, 4)\n",
    "print(torch.permute(t, (3, 2, 0, 1)).shape) # change dimension into given sequence of index\n",
    "print(t.permute((3, 2, 0, 1)).shape)\n",
    "print(t.transpose(0, 1).shape) # change the dimension of given index\n",
    "\n",
    "t = torch.ones(1, 2)\n",
    "print(t.t().shape)  # just used in two dimension"
   ]
  },
  {
   "cell_type": "markdown",
   "metadata": {},
   "source": [
    "## tensor concat == cat\n",
    "### cat should have same dimension except the standard dimesion\n",
    " - torch.cat((t1, t2, ...), dim=n) == torch.concat((t1, t2, ...), dim=n)"
   ]
  },
  {
   "cell_type": "code",
   "execution_count": 207,
   "metadata": {},
   "outputs": [
    {
     "name": "stdout",
     "output_type": "stream",
     "text": [
      "torch.Size([2, 6, 3])\n",
      "tensor([0, 1, 2, 3, 4, 5, 6, 7])\n",
      "torch.Size([4, 3])\n"
     ]
    }
   ],
   "source": [
    "t1 = torch.zeros((2, 1, 3))\n",
    "t2 = torch.ones((2, 3, 3))\n",
    "t3 = torch.zeros((2, 2, 3))\n",
    "print(torch.cat((t1, t2, t3), dim=1).shape)     # should have same dimension except the standard dimension\n",
    "\n",
    "t1 = torch.arange(0, 3)\n",
    "t2 = torch.arange(3, 8)\n",
    "print(torch.cat((t1, t2), dim=0))\n",
    "\n",
    "t1 = torch.arange(0, 6).reshape((2, 3))\n",
    "t2 = torch.arange(6, 12).reshape((2, 3))\n",
    "print(torch.cat((t1, t2), dim=0).shape)"
   ]
  },
  {
   "cell_type": "markdown",
   "metadata": {},
   "source": [
    "## tensor stacking\n",
    " - tensor.stack((t1, t2), dim=n) = tensor.cat((t1.unsqueeze(dim=n), t2.unsqueeze(dim=n)), dim=n)\n",
    " - tensor.hstack((t1, t2)) = tensor.cat((t1, t2), dim=0)\n",
    "    - if t1, t2 dimension = 1 : tensor.stack((t1, t2), dim=0)\n",
    " - tensor.vstack((t1, t2)) = tensor.cat((t1, t2), dim=1)\n",
    "    - if t1, t2 dimension = 1 : tensor.cat((t1, t2), dim=0)"
   ]
  },
  {
   "cell_type": "code",
   "execution_count": 232,
   "metadata": {},
   "outputs": [
    {
     "name": "stdout",
     "output_type": "stream",
     "text": [
      "torch.Size([2, 2, 3])\n",
      "torch.Size([2, 2, 3])\n",
      "True\n",
      "tensor([[0, 1, 2],\n",
      "        [3, 4, 5]])\n",
      "True\n"
     ]
    }
   ],
   "source": [
    "t1 = torch.ones(2, 3)\n",
    "t2 = torch.zeros(2, 3)\n",
    "t3 = torch.stack((t1, t2), dim=0)   # should have same dimension, add additional dimension at the given dimension\n",
    "print(t3.shape)\n",
    "\n",
    "t4 = torch.cat((t1.unsqueeze(dim=0), t2.unsqueeze(dim=0)), dim=0)\n",
    "print(t4.shape)\n",
    "\n",
    "print(t3.equal(t4)) # stack is same as unsqueeze cat\n",
    "\n",
    "t1 = torch.arange(0, 3)\n",
    "t2 = torch.arange(3, 6)\n",
    "t3 = torch.stack((t1, t2), dim=0)   # stack is not a just a merge, add additional dimension\n",
    "print(t3)\n",
    "print(torch.stack((t1, t2), dim=0).equal(torch.cat((t1.unsqueeze(dim=0), t2.unsqueeze(dim=0)), dim=0)))"
   ]
  },
  {
   "cell_type": "code",
   "execution_count": 252,
   "metadata": {},
   "outputs": [
    {
     "name": "stdout",
     "output_type": "stream",
     "text": [
      "torch.Size([4, 2, 2, 2])\n",
      "torch.Size([2, 4, 2, 2])\n",
      "torch.Size([4, 2, 2, 2])\n",
      "torch.Size([2, 4, 2, 2])\n",
      "tensor([[0, 1, 2, 3],\n",
      "        [4, 5, 6, 7]])\n",
      "tensor([0, 1, 2, 3, 4, 5, 6, 7])\n",
      "tensor([[0, 1, 2, 3],\n",
      "        [4, 5, 6, 7]])\n",
      "tensor([0, 1, 2, 3, 4, 5, 6, 7])\n"
     ]
    }
   ],
   "source": [
    "t1 = torch.arange(0, 16).reshape((2, 2, 2, 2))\n",
    "t2 = torch.arange(16, 32).reshape((2, 2, 2, 2))\n",
    "print(torch.vstack((t1, t2)).shape)   # vertical stack, stack at the 0 dimension\n",
    "print(torch.hstack((t1, t2)).shape)   # horizontal stack, stack at the 1 dimension\n",
    "print(torch.cat((t1, t2), dim=0).shape)\n",
    "print(torch.cat((t1, t2), dim=1).shape)\n",
    "\n",
    "\n",
    "t1 = torch.arange(0, 16)\n",
    "t2 = torch.arange(16, 32)\n",
    "print(torch.vstack((t1, t2)).shape)   # if given tensors are 1 dimension tensor, add additional tensor at dim=0\n",
    "print(torch.hstack((t1, t2)).shape)   # if given tensors are 1 dimension tensor, stack at 0 dimension\n",
    "print(torch.stack((t1, t2), dim=0).shape)\n",
    "print(torch.cat((t1, t2), dim=0).shape)"
   ]
  }
 ],
 "metadata": {
  "kernelspec": {
   "display_name": "link_dl",
   "language": "python",
   "name": "python3"
  },
  "language_info": {
   "codemirror_mode": {
    "name": "ipython",
    "version": 3
   },
   "file_extension": ".py",
   "mimetype": "text/x-python",
   "name": "python",
   "nbconvert_exporter": "python",
   "pygments_lexer": "ipython3",
   "version": "3.10.12"
  }
 },
 "nbformat": 4,
 "nbformat_minor": 2
}
