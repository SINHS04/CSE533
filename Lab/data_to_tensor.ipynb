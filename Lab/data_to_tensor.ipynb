{
 "cells": [
  {
   "cell_type": "code",
   "execution_count": 1,
   "metadata": {},
   "outputs": [],
   "source": [
    "import os\n",
    "import imageio.v2 as imageio\n",
    "import torch"
   ]
  },
  {
   "cell_type": "markdown",
   "metadata": {},
   "source": [
    "## get 2d image data from file and reshpae it"
   ]
  },
  {
   "cell_type": "code",
   "execution_count": 7,
   "metadata": {},
   "outputs": [
    {
     "name": "stdout",
     "output_type": "stream",
     "text": [
      "<class 'numpy.ndarray'>\n",
      "(720, 1280, 3)\n",
      "uint8\n"
     ]
    }
   ],
   "source": [
    "img_arr = imageio.imread(os.path.join(os.path.pardir, \"resource\", \"a_image-dog\", \"bobby.jpg\"))\n",
    "print(type(img_arr))\n",
    "print(img_arr.shape)\n",
    "print(img_arr.dtype)"
   ]
  },
  {
   "cell_type": "code",
   "execution_count": 4,
   "metadata": {},
   "outputs": [
    {
     "name": "stdout",
     "output_type": "stream",
     "text": [
      "torch.Size([3, 720, 1280])\n"
     ]
    }
   ],
   "source": [
    "img = torch.from_numpy(img_arr)\n",
    "out = img.permute(2, 0, 1)  # torch require channel at first dimension\n",
    "print(out.shape)"
   ]
  },
  {
   "cell_type": "markdown",
   "metadata": {},
   "source": [
    "## get 2d image data and show it"
   ]
  },
  {
   "cell_type": "code",
   "execution_count": 8,
   "metadata": {},
   "outputs": [
    {
     "name": "stdout",
     "output_type": "stream",
     "text": [
      "['cat1.png', 'cat2.png', 'cat3.png']\n"
     ]
    }
   ],
   "source": [
    "data_dir = os.path.join(os.path.pardir, \"resource\", \"b_image-cats\")\n",
    "filenames = [\n",
    "    name for name in os.listdir(data_dir) if os.path.splitext(name)[-1] == \".png\"\n",
    "]\n",
    "print(filenames)"
   ]
  },
  {
   "cell_type": "code",
   "execution_count": 11,
   "metadata": {},
   "outputs": [
    {
     "name": "stdout",
     "output_type": "stream",
     "text": [
      "(256, 256, 3)\n",
      "uint8\n",
      "(256, 256, 3)\n",
      "uint8\n",
      "(256, 256, 3)\n",
      "uint8\n"
     ]
    }
   ],
   "source": [
    "from PIL import Image\n",
    "\n",
    "for i, filename in enumerate(filenames):\n",
    "    image = Image.open(os.path.join(data_dir, filename))\n",
    "    image.show()\n",
    "    img_arr = imageio.imread(os.path.join(data_dir, filename))\n",
    "    print(img_arr.shape)\n",
    "    print(img_arr.dtype)"
   ]
  },
  {
   "cell_type": "code",
   "execution_count": 16,
   "metadata": {},
   "outputs": [
    {
     "name": "stdout",
     "output_type": "stream",
     "text": [
      "torch.Size([3, 256, 256])\n",
      "torch.Size([3, 256, 256])\n",
      "torch.Size([3, 256, 256])\n",
      "torch.Size([3, 3, 256, 256])\n"
     ]
    }
   ],
   "source": [
    "batch_size = 3  # images num\n",
    "batch = torch.zeros(batch_size, 3, 256, 256, dtype=torch.uint8) # channel should be come at the first\n",
    "\n",
    "for i, filename in enumerate(filenames):\n",
    "    img_arr = imageio.imread(os.path.join(data_dir, filename))\n",
    "    img_t = torch.from_numpy(img_arr)\n",
    "    img_t = img_t.permute((2, 0, 1))\n",
    "    img_t = img_t[:3]   # to ignore a in rgba, we want only rgb\n",
    "    print(img_t.shape)\n",
    "    batch[i] = img_t\n",
    "\n",
    "print(batch.shape)"
   ]
  },
  {
   "cell_type": "code",
   "execution_count": 20,
   "metadata": {},
   "outputs": [
    {
     "name": "stdout",
     "output_type": "stream",
     "text": [
      "torch.float32\n",
      "torch.Size([3, 3, 256, 256])\n"
     ]
    }
   ],
   "source": [
    "batch = batch.float()\n",
    "batch /= 255.0\n",
    "print(batch.dtype)\n",
    "print(batch.shape)\n",
    "\n",
    "n_channels = batch.shape[1]\n",
    "\n",
    "for c in range(n_channels): # normalize the batch for each channel\n",
    "    mean = torch.mean(batch[:, c])\n",
    "    std = torch.std(batch[:, c])\n",
    "    batch[:, c] = (batch[:, c] - mean) / std"
   ]
  }
 ],
 "metadata": {
  "kernelspec": {
   "display_name": "link_dl",
   "language": "python",
   "name": "python3"
  },
  "language_info": {
   "codemirror_mode": {
    "name": "ipython",
    "version": 3
   },
   "file_extension": ".py",
   "mimetype": "text/x-python",
   "name": "python",
   "nbconvert_exporter": "python",
   "pygments_lexer": "ipython3",
   "version": "3.10.12"
  }
 },
 "nbformat": 4,
 "nbformat_minor": 2
}
