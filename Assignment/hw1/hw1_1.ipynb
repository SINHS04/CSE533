{
 "cells": [
  {
   "cell_type": "markdown",
   "id": "b652d92c108b2696",
   "metadata": {
    "collapsed": false,
    "jp-MarkdownHeadingCollapsed": true,
    "jupyter": {
     "outputs_hidden": false
    }
   },
   "source": [
    "# a_tensor_initialization.py"
   ]
  },
  {
   "cell_type": "code",
   "execution_count": 1,
   "id": "initial_id",
   "metadata": {
    "ExecuteTime": {
     "end_time": "2023-09-10T04:37:51.517313700Z",
     "start_time": "2023-09-10T04:37:47.338913100Z"
    }
   },
   "outputs": [],
   "source": [
    "import torch"
   ]
  },
  {
   "cell_type": "code",
   "execution_count": 2,
   "id": "5c8993a21b903031",
   "metadata": {
    "ExecuteTime": {
     "end_time": "2023-09-10T04:37:51.538260400Z",
     "start_time": "2023-09-10T04:37:51.521312900Z"
    },
    "collapsed": false,
    "jupyter": {
     "outputs_hidden": false
    }
   },
   "outputs": [
    {
     "name": "stdout",
     "output_type": "stream",
     "text": [
      "torch.float32\n",
      "cpu\n",
      "False\n",
      "torch.Size([3])\n",
      "torch.Size([3])\n"
     ]
    }
   ],
   "source": [
    "t1 = torch.Tensor([1, 2, 3], device = 'cpu') # large 'T'ensor -> class\n",
    "print(t1.dtype) # Make tensor based on [1, 2, 3], so that type of list is chagned\n",
    "print(t1.device)\n",
    "print(t1.requires_grad)\n",
    "print(t1.size())\n",
    "print(t1.shape)"
   ]
  },
  {
   "cell_type": "code",
   "execution_count": 3,
   "id": "96571cb77cbc0eca",
   "metadata": {
    "ExecuteTime": {
     "end_time": "2023-09-10T04:38:08.235938900Z",
     "start_time": "2023-09-10T04:38:08.196045600Z"
    },
    "collapsed": false,
    "jupyter": {
     "outputs_hidden": false
    }
   },
   "outputs": [
    {
     "name": "stdout",
     "output_type": "stream",
     "text": [
      "\n"
     ]
    }
   ],
   "source": [
    "# t1_cuda = t1.to(torch.device('cuda'))\n",
    "t1_cpu = t1.cpu()\n",
    "print()"
   ]
  },
  {
   "cell_type": "code",
   "execution_count": 4,
   "id": "4eb0721e58ac2915",
   "metadata": {
    "ExecuteTime": {
     "end_time": "2023-09-10T04:38:19.816626300Z",
     "start_time": "2023-09-10T04:38:19.810641600Z"
    },
    "collapsed": false,
    "jupyter": {
     "outputs_hidden": false
    }
   },
   "outputs": [
    {
     "name": "stdout",
     "output_type": "stream",
     "text": [
      "torch.int64\n",
      "cpu\n",
      "False\n",
      "torch.Size([3])\n",
      "torch.Size([3])\n"
     ]
    }
   ],
   "source": [
    "t2 = torch.tensor([1, 2, 3], device = 'cpu') # Small 't'ensor -> function\n",
    "print(t2.dtype) # Make tensor using [1, 2, 3], so that type of list is not changed\n",
    "print(t2.device)\n",
    "print(t2.requires_grad)\n",
    "print(t2.size())\n",
    "print(t2.shape)"
   ]
  },
  {
   "cell_type": "code",
   "execution_count": 5,
   "id": "e2a2136620e846ac",
   "metadata": {
    "ExecuteTime": {
     "end_time": "2023-09-10T04:38:17.410454900Z",
     "start_time": "2023-09-10T04:38:17.394957700Z"
    },
    "collapsed": false,
    "jupyter": {
     "outputs_hidden": false
    }
   },
   "outputs": [],
   "source": [
    "# t2_cuda = t2.cuda()\n",
    "t2_cpu = t2.cpu()"
   ]
  },
  {
   "cell_type": "markdown",
   "id": "a4dd20af-f74f-4d54-aaec-317a95f70374",
   "metadata": {
    "jp-MarkdownHeadingCollapsed": true
   },
   "source": [
    "# b_tensor_initialization.py"
   ]
  },
  {
   "cell_type": "code",
   "execution_count": 6,
   "id": "6634656c-9282-416d-8995-5babacfc7db8",
   "metadata": {},
   "outputs": [],
   "source": [
    "import torch\n",
    "import numpy as np"
   ]
  },
  {
   "cell_type": "code",
   "execution_count": 7,
   "id": "247293e7-2c92-4eeb-8413-16e3ca55efe6",
   "metadata": {},
   "outputs": [
    {
     "name": "stdout",
     "output_type": "stream",
     "text": [
      "tensor([1., 2., 3.])\n",
      "tensor([1., 2., 3.])\n",
      "tensor([1, 2, 3])\n",
      "####################################################################################################\n"
     ]
    }
   ],
   "source": [
    "l1 = [1, 2, 3]\n",
    "t1 = torch.Tensor(l1)\n",
    "\n",
    "l2 = [1, 2, 3]\n",
    "t2 = torch.Tensor(l2)\n",
    "\n",
    "l3 = [1, 2, 3]\n",
    "t3 = torch.as_tensor(l3)\n",
    "# Translate list to tensor by itself, so the type of the 1, 2, 3 is not changed (int64)\n",
    "# Howeveer, l1, l2 's type were changed into float32\n",
    "\n",
    "l1[0] = 100\n",
    "l2[0] = 100\n",
    "l3[0] = 100\n",
    "\n",
    "print(t1)\n",
    "print(t2)\n",
    "print(t3)\n",
    "\n",
    "print(\"#\" * 100)"
   ]
  },
  {
   "cell_type": "code",
   "execution_count": 8,
   "id": "2ca6c62f-fad6-479e-9dfa-75c73a9ecc40",
   "metadata": {},
   "outputs": [
    {
     "name": "stdout",
     "output_type": "stream",
     "text": [
      "tensor([1., 2., 3.])\n",
      "tensor([1, 2, 3], dtype=torch.int32)\n",
      "tensor([100,   2,   3], dtype=torch.int32)\n"
     ]
    }
   ],
   "source": [
    "# np.array is not a list. Just like other language's array\n",
    "\n",
    "l4 = np.array([1, 2, 3])\n",
    "t4 = torch.Tensor(l4) # Tensor is a class so the type is chagned into float32\n",
    "\n",
    "l5 = np.array([1, 2, 3])\n",
    "t5 = torch.tensor(l5) # tensor is a function so the type is not changed. int64\n",
    "\n",
    "# Tensor and tensor always copy the given list(data)\n",
    "\n",
    "l6 = np.array([1, 2, 3])\n",
    "t6 = torch.as_tensor(l6) # as_tensor does not copying the given list\n",
    "\n",
    "# If you want to avoid copying the data, use np.array() with as_tensor()\n",
    "\n",
    "l4[0] = 100\n",
    "l5[0] = 100\n",
    "l6[0] = 100\n",
    "\n",
    "print(t4)\n",
    "print(t5)\n",
    "print(t6)\n"
   ]
  },
  {
   "cell_type": "markdown",
   "id": "7a8ca1aa-673a-4744-bb3c-f69c5332b4fd",
   "metadata": {
    "jp-MarkdownHeadingCollapsed": true
   },
   "source": [
    "# c_tensor_initialization_constant_values.py"
   ]
  },
  {
   "cell_type": "code",
   "execution_count": 9,
   "id": "a453b40c-c762-4922-aa72-d14fb64f5d69",
   "metadata": {},
   "outputs": [],
   "source": [
    "import torch"
   ]
  },
  {
   "cell_type": "code",
   "execution_count": 10,
   "id": "3291b46c-19f8-475d-a975-70161bcffc82",
   "metadata": {},
   "outputs": [
    {
     "name": "stdout",
     "output_type": "stream",
     "text": [
      "tensor([1., 1., 1., 1., 1.])\n",
      "tensor([1., 1., 1., 1., 1.])\n"
     ]
    }
   ],
   "source": [
    "t1 = torch.ones(size = (5, )) # size must be tuple, not number\n",
    "t1_like = torch.ones_like(input = t1) # create new tensor as same size with t1 filled with 1\n",
    "\n",
    "print(t1)\n",
    "print(t1_like)"
   ]
  },
  {
   "cell_type": "code",
   "execution_count": 11,
   "id": "23ab9420-3350-4572-94f1-d2e3e1227de7",
   "metadata": {},
   "outputs": [
    {
     "name": "stdout",
     "output_type": "stream",
     "text": [
      "tensor([0., 0., 0., 0., 0., 0.])\n",
      "tensor([0., 0., 0., 0., 0., 0.])\n"
     ]
    }
   ],
   "source": [
    "t2 = torch.zeros(size = (6, ))\n",
    "t2_like = torch.zeros_like(input = t2)\n",
    "\n",
    "print(t2)\n",
    "print(t2_like)"
   ]
  },
  {
   "cell_type": "code",
   "execution_count": 12,
   "id": "c5db32ab-f6bd-4530-80c5-bbb213a045e2",
   "metadata": {},
   "outputs": [
    {
     "name": "stdout",
     "output_type": "stream",
     "text": [
      "tensor([1.0078e+00, 0.0000e+00, 3.3631e-44, 0.0000e+00])\n",
      "tensor([9.1477e-41, 0.0000e+00, 5.6052e-45, 0.0000e+00])\n"
     ]
    }
   ],
   "source": [
    "t3 = torch.empty(size = (4, )) # fill with uninitialized data -> not zero\n",
    "t3_like = torch.empty_like(input = t3)\n",
    "\n",
    "print(t3)\n",
    "print(t3_like)"
   ]
  },
  {
   "cell_type": "code",
   "execution_count": 13,
   "id": "ec556a8c-624b-4c93-b6a1-64069b20c3de",
   "metadata": {},
   "outputs": [
    {
     "name": "stdout",
     "output_type": "stream",
     "text": [
      "tensor([[1., 0., 0.],\n",
      "        [0., 1., 0.],\n",
      "        [0., 0., 1.]])\n"
     ]
    }
   ],
   "source": [
    "t4 = torch.eye(n = 3) # create a n by n unit matrix which means 단위행렬\n",
    "\n",
    "print(t4)"
   ]
  },
  {
   "cell_type": "markdown",
   "id": "439ea0d2-4d7a-42e7-9bb8-53b4d1cf7801",
   "metadata": {
    "jp-MarkdownHeadingCollapsed": true
   },
   "source": [
    "# d_tensor_initialization_random_values.py"
   ]
  },
  {
   "cell_type": "code",
   "execution_count": 14,
   "id": "fe3d5589-36ae-4fd7-9251-c24da232fa1f",
   "metadata": {},
   "outputs": [],
   "source": [
    "import torch"
   ]
  },
  {
   "cell_type": "code",
   "execution_count": 15,
   "id": "3e11f8fd-8231-4a9b-85a2-c28e3e951932",
   "metadata": {},
   "outputs": [
    {
     "name": "stdout",
     "output_type": "stream",
     "text": [
      "tensor([[13, 12]])\n"
     ]
    }
   ],
   "source": [
    "t1 = torch.randint(low = 10, high = 20, size = (1, 2)) # random integer between low and high\n",
    "print(t1)"
   ]
  },
  {
   "cell_type": "code",
   "execution_count": 16,
   "id": "ce0df8bf-3314-47d5-b566-ba2eacc05745",
   "metadata": {},
   "outputs": [
    {
     "name": "stdout",
     "output_type": "stream",
     "text": [
      "tensor([[0.7141, 0.1482, 0.5107]])\n"
     ]
    }
   ],
   "source": [
    "t2 = torch.rand(size = (1, 3)) # random float between 0 and 1 from a uniform distribution, which means 균등분포\n",
    "print(t2)"
   ]
  },
  {
   "cell_type": "code",
   "execution_count": 17,
   "id": "28123dfa-8fd5-4aab-903b-19f9d585c4f2",
   "metadata": {},
   "outputs": [
    {
     "name": "stdout",
     "output_type": "stream",
     "text": [
      "tensor([[-1.2316,  0.1218,  0.6070]])\n"
     ]
    }
   ],
   "source": [
    "t3 = torch.randn(size = (1, 3)) # random float between 0 and 1 from a standard normal distribution, which means 표준정규분포\n",
    "print(t3)"
   ]
  },
  {
   "cell_type": "code",
   "execution_count": 18,
   "id": "d8d81f4e-60a1-49d4-b6b0-2c7f7b6e6d5e",
   "metadata": {},
   "outputs": [
    {
     "name": "stdout",
     "output_type": "stream",
     "text": [
      "tensor([[ 8.7904, 10.1796],\n",
      "        [11.0333,  9.2392],\n",
      "        [ 9.1931, 11.7051]])\n"
     ]
    }
   ],
   "source": [
    "t4 = torch.normal(mean = 10.0, std = 1.0, size = (3, 2)) # random float from a normal distribution which mean and standard deviation are given, which means 평균과 편차가 주어진 정규분포\n",
    "print(t4)"
   ]
  },
  {
   "cell_type": "code",
   "execution_count": 19,
   "id": "f1d94b04-bfac-4577-a61c-bd622e556855",
   "metadata": {},
   "outputs": [
    {
     "name": "stdout",
     "output_type": "stream",
     "text": [
      "tensor([0.0000, 2.5000, 5.0000])\n"
     ]
    }
   ],
   "source": [
    "t5 = torch.linspace(start = 0.0, end = 5.0, steps =3) # Arithmetic progression, which means 등차수열\n",
    "print(t5)"
   ]
  },
  {
   "cell_type": "code",
   "execution_count": 20,
   "id": "548a5b11-39f3-4595-ab26-d8e9a8802006",
   "metadata": {},
   "outputs": [
    {
     "name": "stdout",
     "output_type": "stream",
     "text": [
      "##############################\n",
      "tensor([[0.3126, 0.3791, 0.3087],\n",
      "        [0.0736, 0.4216, 0.0691]])\n",
      "tensor([[0.2332, 0.4047, 0.2162],\n",
      "        [0.9927, 0.4128, 0.5938]])\n",
      "\n"
     ]
    }
   ],
   "source": [
    "print(\"#\" * 30)\n",
    "\n",
    "torch.manual_seed(1729)\n",
    "random1 = torch.rand(2, 3)\n",
    "print(random1)\n",
    "\n",
    "random2 = torch.rand(2, 3)\n",
    "print(random2)\n",
    "\n",
    "print()"
   ]
  },
  {
   "cell_type": "code",
   "execution_count": 21,
   "id": "2079f8a4-b6ed-4197-b92b-cbd844d9cfde",
   "metadata": {},
   "outputs": [
    {
     "name": "stdout",
     "output_type": "stream",
     "text": [
      "tensor([[0.3126, 0.3791, 0.3087],\n",
      "        [0.0736, 0.4216, 0.0691]])\n",
      "tensor([[0.2332, 0.4047, 0.2162],\n",
      "        [0.9927, 0.4128, 0.5938]])\n"
     ]
    }
   ],
   "source": [
    "torch.manual_seed(1729)\n",
    "random3 = torch.rand(2, 3)\n",
    "print(random3)\n",
    "\n",
    "random4 = torch.rand(2, 3)\n",
    "print(random4)\n",
    "\n",
    "# with same seed, the values of random are always same"
   ]
  },
  {
   "cell_type": "markdown",
   "id": "41aa3423-c6b0-477c-847b-87c8c1735147",
   "metadata": {},
   "source": [
    "# e_tensor_type_conversion.py"
   ]
  },
  {
   "cell_type": "code",
   "execution_count": 22,
   "id": "b296fe66-70fd-4970-ba46-77e594fba8db",
   "metadata": {},
   "outputs": [],
   "source": [
    "import torch"
   ]
  },
  {
   "cell_type": "code",
   "execution_count": 23,
   "id": "c71ee9b7-471a-43f2-965c-b25e894bc734",
   "metadata": {},
   "outputs": [
    {
     "name": "stdout",
     "output_type": "stream",
     "text": [
      "torch.float32\n",
      "tensor([[1, 1, 1],\n",
      "        [1, 1, 1]], dtype=torch.int16)\n",
      "tensor([[18.0429,  7.2532, 19.6519],\n",
      "        [10.8626,  2.1505, 19.6913]], dtype=torch.float64)\n",
      "tensor([[1, 1, 1],\n",
      "        [1, 1, 1]], dtype=torch.int32)\n"
     ]
    }
   ],
   "source": [
    "a = torch.ones((2, 3)) # tensor's basic data type is float32\n",
    "print(a.dtype)\n",
    "\n",
    "b = torch.ones((2, 3), dtype = torch.int16) # set data type explicitly\n",
    "print(b)\n",
    "\n",
    "c = torch.rand((2, 3), dtype = torch.float64) * 20.\n",
    "print(c)\n",
    "\n",
    "d = b.to(torch.int32) # type conversion\n",
    "print(d)"
   ]
  },
  {
   "cell_type": "code",
   "execution_count": 24,
   "id": "f4e1e337-1ef1-4d1a-9884-319f8be12850",
   "metadata": {},
   "outputs": [],
   "source": [
    "double_d = torch.ones(10, 2, dtype = torch.double)\n",
    "short_e = torch.tensor([[1, 2]], dtype = torch.short)"
   ]
  },
  {
   "cell_type": "code",
   "execution_count": 25,
   "id": "541e6231-b30a-4a6c-86b4-43442b749fc0",
   "metadata": {},
   "outputs": [],
   "source": [
    "double_d = torch.zeros(10, 2).double()\n",
    "short_e = torch.ones(10, 2).short()"
   ]
  },
  {
   "cell_type": "code",
   "execution_count": 26,
   "id": "ba3e72a9-be0d-4046-950a-0636b898111b",
   "metadata": {},
   "outputs": [],
   "source": [
    "double_d = torch.zeros(10, 2).to(torch.double)\n",
    "short_e = torch.ones(10, 2).to(dtype=torch.short)\n",
    "\n",
    "# Everything is same type"
   ]
  },
  {
   "cell_type": "code",
   "execution_count": 27,
   "id": "fd7b67e7-e02d-44fa-bedf-9e7cd637ff46",
   "metadata": {},
   "outputs": [
    {
     "name": "stdout",
     "output_type": "stream",
     "text": [
      "torch.float64\n",
      "torch.int16\n"
     ]
    }
   ],
   "source": [
    "print(double_d.dtype)\n",
    "print(short_e.dtype)"
   ]
  },
  {
   "cell_type": "code",
   "execution_count": 28,
   "id": "25d9a0c0-c543-4e7f-a726-4c64d5206a7a",
   "metadata": {},
   "outputs": [
    {
     "name": "stdout",
     "output_type": "stream",
     "text": [
      "torch.float64\n"
     ]
    }
   ],
   "source": [
    "double_f = torch.rand(5, dtype = torch.double)\n",
    "short_g = double_f.to(torch.short)\n",
    "\n",
    "print((double_f * short_g).dtype) # if large type calculate with smaller type, it becomes large type"
   ]
  },
  {
   "cell_type": "markdown",
   "id": "263ccc14-aed3-4ec0-87d2-88aad14afa56",
   "metadata": {},
   "source": [
    "# f_tensor_operations.py"
   ]
  },
  {
   "cell_type": "code",
   "execution_count": 29,
   "id": "5aad79d9-e590-4025-90f9-edb96b692181",
   "metadata": {},
   "outputs": [],
   "source": [
    "import torch"
   ]
  },
  {
   "cell_type": "code",
   "execution_count": 30,
   "id": "df953856-0e20-4870-807b-555906039236",
   "metadata": {},
   "outputs": [],
   "source": [
    "t1 = torch.ones(size = (2, 3))\n",
    "t2 = torch.ones(size = (2, 3))"
   ]
  },
  {
   "cell_type": "code",
   "execution_count": 31,
   "id": "ab3a083d-907f-4f74-958b-8c6e77930536",
   "metadata": {},
   "outputs": [
    {
     "name": "stdout",
     "output_type": "stream",
     "text": [
      "tensor([[2., 2., 2.],\n",
      "        [2., 2., 2.]])\n",
      "tensor([[2., 2., 2.],\n",
      "        [2., 2., 2.]])\n",
      "##############################\n"
     ]
    }
   ],
   "source": [
    "t3 = torch.add(t1, t2)\n",
    "t4 = t1 + t2\n",
    "\n",
    "print(t3)\n",
    "print(t4)\n",
    "\n",
    "print(\"#\" * 30)"
   ]
  },
  {
   "cell_type": "code",
   "execution_count": 32,
   "id": "595a5a2d-1d0a-466d-a5d7-747c928549d8",
   "metadata": {},
   "outputs": [
    {
     "name": "stdout",
     "output_type": "stream",
     "text": [
      "tensor([[0., 0., 0.],\n",
      "        [0., 0., 0.]])\n",
      "tensor([[0., 0., 0.],\n",
      "        [0., 0., 0.]])\n",
      "##############################\n"
     ]
    }
   ],
   "source": [
    "t5 = torch.sub(t1, t2)\n",
    "t6 = t1 - t2\n",
    "\n",
    "print(t5)\n",
    "print(t6)\n",
    "\n",
    "print(\"#\" * 30)"
   ]
  },
  {
   "cell_type": "code",
   "execution_count": 33,
   "id": "71abf8b5-ed76-46fb-93de-bc8460ba60ad",
   "metadata": {},
   "outputs": [
    {
     "name": "stdout",
     "output_type": "stream",
     "text": [
      "tensor([[1., 1., 1.],\n",
      "        [1., 1., 1.]])\n",
      "tensor([[1., 1., 1.],\n",
      "        [1., 1., 1.]])\n",
      "##############################\n"
     ]
    }
   ],
   "source": [
    "t7 = torch.mul(t1, t2)\n",
    "t8 = t1 * t2\n",
    "\n",
    "print(t7)\n",
    "print(t8)\n",
    "\n",
    "print(\"#\" * 30)"
   ]
  },
  {
   "cell_type": "code",
   "execution_count": 34,
   "id": "ace265aa-266e-4f2a-8b52-6a18a0b2df3c",
   "metadata": {},
   "outputs": [
    {
     "name": "stdout",
     "output_type": "stream",
     "text": [
      "tensor([[1., 1., 1.],\n",
      "        [1., 1., 1.]])\n",
      "tensor([[1., 1., 1.],\n",
      "        [1., 1., 1.]])\n"
     ]
    }
   ],
   "source": [
    "t9 = torch.div(t1, t2)\n",
    "t10 = t1 / t2\n",
    "\n",
    "print(t9)\n",
    "print(t10)\n",
    "\n",
    "# all the operations work same"
   ]
  },
  {
   "cell_type": "markdown",
   "id": "469afb46-83dc-434f-9ff2-49575c4a3edc",
   "metadata": {},
   "source": [
    "# g_tensor_operations_mm.py"
   ]
  },
  {
   "cell_type": "code",
   "execution_count": 35,
   "id": "a7e69b39-270f-4c14-81c4-02c799bcdd63",
   "metadata": {},
   "outputs": [],
   "source": [
    "import torch"
   ]
  },
  {
   "cell_type": "code",
   "execution_count": 36,
   "id": "ab029dc3-363d-43c5-bb13-b3de65639943",
   "metadata": {},
   "outputs": [
    {
     "name": "stdout",
     "output_type": "stream",
     "text": [
      "tensor(7) torch.Size([])\n"
     ]
    }
   ],
   "source": [
    "t1 = torch.dot(torch.tensor([2, 3]), torch.tensor([2, 1]))\n",
    "# return dot product, which means 내적.\n",
    "# return data type is tensor. not number. so the size fo the tensor is empty []\n",
    "# and the value of tensor is result of dot product\n",
    "\n",
    "print(t1, t1.size())"
   ]
  },
  {
   "cell_type": "code",
   "execution_count": 37,
   "id": "7822076e-a43c-49cb-965b-b5e7c85d5d13",
   "metadata": {},
   "outputs": [
    {
     "name": "stdout",
     "output_type": "stream",
     "text": [
      "tensor([[1.6750, 2.2840],\n",
      "        [0.0956, 1.0294]]) torch.Size([2, 2])\n"
     ]
    }
   ],
   "source": [
    "t2 = torch.randn(2, 3)\n",
    "t3 = torch.randn(3, 2)\n",
    "t4 = torch.mm(t2, t3) # matrix multiplication\n",
    "\n",
    "print(t4, t4.size())"
   ]
  },
  {
   "cell_type": "code",
   "execution_count": 38,
   "id": "15f58f30-53da-43ff-a02a-ac171db9b639",
   "metadata": {},
   "outputs": [
    {
     "name": "stdout",
     "output_type": "stream",
     "text": [
      "torch.Size([10, 3, 5])\n"
     ]
    }
   ],
   "source": [
    "t5 = torch.randn(10, 3, 4)\n",
    "t6 = torch.randn(10, 4, 5)\n",
    "t7 = torch.bmm(t5, t6) # batch matrix multiplication\n",
    "\n",
    "print(t7.size())"
   ]
  },
  {
   "cell_type": "markdown",
   "id": "9516228a-5f53-4aa2-8f44-3a3a3dbb7689",
   "metadata": {},
   "source": [
    "# h_tensor_operations_matmul.py"
   ]
  },
  {
   "cell_type": "code",
   "execution_count": 39,
   "id": "25416fcb-4125-47d3-9bdb-55fcbda8370a",
   "metadata": {},
   "outputs": [],
   "source": [
    "import torch"
   ]
  },
  {
   "cell_type": "code",
   "execution_count": 40,
   "id": "9d3f0111-534b-4427-9595-72ada7f27c01",
   "metadata": {},
   "outputs": [
    {
     "name": "stdout",
     "output_type": "stream",
     "text": [
      "torch.Size([])\n"
     ]
    }
   ],
   "source": [
    "t1 = torch.randn(3)\n",
    "t2 = torch.randn(3)\n",
    "\n",
    "print(torch.matmul(t1, t2).size()) # maumultiplication return dot product"
   ]
  },
  {
   "cell_type": "code",
   "execution_count": 41,
   "id": "2332603a-199c-4e60-9e57-173814098425",
   "metadata": {},
   "outputs": [
    {
     "name": "stdout",
     "output_type": "stream",
     "text": [
      "torch.Size([3])\n"
     ]
    }
   ],
   "source": [
    "t3 = torch.randn(3, 4)\n",
    "t4 = torch.randn(4)\n",
    "\n",
    "print(torch.matmul(t3, t4).size()) # same as upside shell"
   ]
  },
  {
   "cell_type": "code",
   "execution_count": 42,
   "id": "ea3b59c1-59c2-4d15-99c9-288ba56f68ef",
   "metadata": {},
   "outputs": [
    {
     "name": "stdout",
     "output_type": "stream",
     "text": [
      "torch.Size([10, 3])\n"
     ]
    }
   ],
   "source": [
    "t5 = torch.randn(10, 3, 4)\n",
    "t6 = torch.randn(4)\n",
    "\n",
    "print(torch.matmul(t5, t6).size())"
   ]
  },
  {
   "cell_type": "code",
   "execution_count": 43,
   "id": "955735f6-eab5-4b3c-9f5a-70acf35a744d",
   "metadata": {},
   "outputs": [
    {
     "name": "stdout",
     "output_type": "stream",
     "text": [
      "torch.Size([10, 3, 5])\n"
     ]
    }
   ],
   "source": [
    "t7 = torch.randn(10, 3, 4)\n",
    "t8 = torch.randn(10, 4, 5)\n",
    "\n",
    "print(torch.matmul(t7, t8).size())"
   ]
  },
  {
   "cell_type": "code",
   "execution_count": 44,
   "id": "008f75f8-d600-4d0c-a7fc-ae9df08b99af",
   "metadata": {},
   "outputs": [
    {
     "name": "stdout",
     "output_type": "stream",
     "text": [
      "torch.Size([10, 3, 5])\n"
     ]
    }
   ],
   "source": [
    "t9 = torch.randn(10, 3, 4)\n",
    "t10 = torch.randn(4, 5)\n",
    "\n",
    "print(torch.matmul(t9, t10).size())"
   ]
  },
  {
   "cell_type": "markdown",
   "id": "82b5cc4e-313d-4efc-9b9b-cf49009139b2",
   "metadata": {},
   "source": [
    "# i_tensor_broadcasting.py"
   ]
  },
  {
   "cell_type": "code",
   "execution_count": 45,
   "id": "b952106e-822c-4688-b510-47597f42c2cd",
   "metadata": {},
   "outputs": [],
   "source": [
    "import torch"
   ]
  },
  {
   "cell_type": "code",
   "execution_count": 46,
   "id": "1ebc9b82-7045-49a9-a23e-da2db899d48b",
   "metadata": {},
   "outputs": [
    {
     "name": "stdout",
     "output_type": "stream",
     "text": [
      "tensor([2., 4., 6.])\n",
      "################################################## 1\n"
     ]
    }
   ],
   "source": [
    "t1 = torch.tensor([1., 2., 3.])\n",
    "t2 = 2.\n",
    "\n",
    "print(t1 * t2)\n",
    "\n",
    "print(\"#\" * 50, 1)"
   ]
  },
  {
   "cell_type": "code",
   "execution_count": 47,
   "id": "0055c9a9-1b42-4c70-830c-ded9226e7244",
   "metadata": {},
   "outputs": [
    {
     "name": "stdout",
     "output_type": "stream",
     "text": [
      "tensor([[-4, -4],\n",
      "        [-2, -1],\n",
      "        [ 6,  5]])\n",
      "################################################## 2\n"
     ]
    }
   ],
   "source": [
    "t3 = torch.tensor([[0, 1], [2, 4], [10, 10]])\n",
    "t4 = torch.tensor([4, 5]) # t4 caculate with each t3 elements\n",
    "\n",
    "print(t3 - t4)\n",
    "\n",
    "print(\"#\" * 50, 2)"
   ]
  },
  {
   "cell_type": "code",
   "execution_count": 48,
   "id": "7574d9da-3170-4c6f-a1a4-110a9018f494",
   "metadata": {},
   "outputs": [
    {
     "name": "stdout",
     "output_type": "stream",
     "text": [
      "tensor([[3., 4.],\n",
      "        [5., 6.]])\n",
      "tensor([[-1.,  0.],\n",
      "        [ 1.,  2.]])\n",
      "tensor([[2., 4.],\n",
      "        [6., 8.]])\n",
      "tensor([[0.5000, 1.0000],\n",
      "        [1.5000, 2.0000]])\n",
      "################################################## 3\n"
     ]
    }
   ],
   "source": [
    "t5 = torch.tensor([[1., 2.], [3., 4.]])\n",
    "\n",
    "print(t5 + 2.)\n",
    "print(t5 - 2.)\n",
    "print(t5 * 2.)\n",
    "print(t5 / 2.)\n",
    "\n",
    "print(\"#\" * 50, 3)"
   ]
  },
  {
   "cell_type": "code",
   "execution_count": 49,
   "id": "85dbcfc6-6eb7-404f-a5a5-0918547a5d28",
   "metadata": {},
   "outputs": [
    {
     "name": "stdout",
     "output_type": "stream",
     "text": [
      "torch.Size([3, 28, 28])\n",
      "################################################## 4\n"
     ]
    }
   ],
   "source": [
    "def normalize(x):\n",
    "    return x / 255\n",
    "\n",
    "t6 = torch.randn(3, 28, 28)\n",
    "\n",
    "print(normalize(t6).size())\n",
    "\n",
    "print(\"#\" * 50, 4)"
   ]
  },
  {
   "cell_type": "code",
   "execution_count": 50,
   "id": "9516af4d-3429-415f-bb00-5b48cfa98552",
   "metadata": {},
   "outputs": [
    {
     "name": "stdout",
     "output_type": "stream",
     "text": [
      "tensor([[4, 3],\n",
      "        [3, 4]])\n",
      "tensor([[6, 7],\n",
      "        [2, 5]])\n",
      "tensor([[8, 6],\n",
      "        [5, 3]])\n",
      "tensor([[ 8,  9],\n",
      "        [ 7, 10]])\n",
      "################################################## 5\n"
     ]
    }
   ],
   "source": [
    "t7 = torch.tensor([[1, 2], [0, 3]])\n",
    "t8 = torch.tensor([[3, 1]])\n",
    "t9 = torch.tensor([[5], [2]])\n",
    "t10 = torch.tensor([7])\n",
    "\n",
    "print(t7 + t8)\n",
    "print(t7 + t9)\n",
    "print(t8 + t9)\n",
    "print(t7 + t10)\n",
    "\n",
    "print(\"#\" * 50, 5)"
   ]
  },
  {
   "cell_type": "code",
   "execution_count": 51,
   "id": "84e8ecbc-d288-41f9-b0f9-1f2e83ec9616",
   "metadata": {},
   "outputs": [
    {
     "name": "stdout",
     "output_type": "stream",
     "text": [
      "torch.Size([4, 3, 2])\n",
      "torch.Size([4, 3, 2])\n",
      "torch.Size([4, 3, 2])\n",
      "torch.Size([5, 3, 4, 1])\n",
      "################################################## 6\n"
     ]
    }
   ],
   "source": [
    "t11 = torch.ones(4, 3, 2)\n",
    "t12 = t11 * torch.rand(3, 2)\n",
    "print(t12.shape)\n",
    "\n",
    "t13 = torch.ones(4, 3, 2)\n",
    "t14 = t13 * torch.rand(3, 1)\n",
    "print(t14.shape)\n",
    "\n",
    "t15 = torch.ones(4, 3, 2)\n",
    "t16 = t15 * torch.rand(1, 2)\n",
    "print(t16.shape)\n",
    "\n",
    "t17 = torch.ones(5, 3, 4, 1)\n",
    "t18 = torch.rand(3, 1, 1)\n",
    "print((t17 + t18).size())\n",
    "\n",
    "print(\"#\" * 50, 6)"
   ]
  },
  {
   "cell_type": "code",
   "execution_count": 52,
   "id": "70e54e5d-e4b0-48a3-865a-8e4b0cad3f56",
   "metadata": {},
   "outputs": [
    {
     "name": "stdout",
     "output_type": "stream",
     "text": [
      "torch.Size([5, 3, 4, 1])\n",
      "torch.Size([3, 1, 7])\n",
      "torch.Size([3, 3, 3])\n",
      "################################################## 7\n"
     ]
    }
   ],
   "source": [
    "t19 = torch.empty(5, 1, 4, 1)\n",
    "t20 = torch.empty(3, 1, 1)\n",
    "print((t19 + t20).size())\n",
    "\n",
    "t21 = torch.empty(1)\n",
    "t22 = torch.empty(3, 1, 7)\n",
    "print((t21 + t22).size())\n",
    "\n",
    "t23 = torch.ones(3, 3, 3)\n",
    "t24 = torch.ones(3, 1, 3)\n",
    "print((t23 + t24).size())\n",
    "\n",
    "# error : 2 & 3 is not a multiple number for each other\n",
    "# t25 = torch.empty(5, 2, 4, 1)\n",
    "# t26 = torch.empty(3, 1, 1)\n",
    "# print((t25 + t26).size())\n",
    "\n",
    "print(\"#\" * 50, 7)"
   ]
  },
  {
   "cell_type": "code",
   "execution_count": 53,
   "id": "0365f7b9-ae8e-41d1-839e-d99b99092fea",
   "metadata": {},
   "outputs": [
    {
     "name": "stdout",
     "output_type": "stream",
     "text": [
      "tensor([5., 5., 5., 5.])\n",
      "tensor([25., 25., 25., 25.])\n",
      "tensor([  1.,   4.,  27., 256.])\n"
     ]
    }
   ],
   "source": [
    "t27 = torch.ones(4) * 5    # tensor([5., 5., 5., 5.])\n",
    "print(t27)\n",
    "\n",
    "t28 = torch.pow(t27, 2)    # tensor([25., 25., 25., 25.])\n",
    "print(t28)\n",
    "\n",
    "exp = torch.arange(1., 5.) # tensor([1., 2., 3., 4.])\n",
    "a = torch.arange(1., 5.)   # tensor([1., 2., 3., 4.])\n",
    "t29 = torch.pow(a, exp)\n",
    "print(t29)"
   ]
  },
  {
   "cell_type": "markdown",
   "id": "233e8412-0aad-4bca-b481-b6bffa9342d4",
   "metadata": {},
   "source": [
    "# j_tensor_indexing_slicing.py"
   ]
  },
  {
   "cell_type": "code",
   "execution_count": 54,
   "id": "72701e81-5a33-481f-8413-01d9e0f5833b",
   "metadata": {},
   "outputs": [],
   "source": [
    "import torch"
   ]
  },
  {
   "cell_type": "code",
   "execution_count": 55,
   "id": "2c7e175d-f471-4e6e-b722-d923c5a6dd86",
   "metadata": {},
   "outputs": [],
   "source": [
    "x = torch.tensor(\n",
    "    [[0, 1, 2, 3, 4],\n",
    "     [5, 6, 7, 8, 9],\n",
    "     [10, 11, 12, 13, 14]]\n",
    ")"
   ]
  },
  {
   "cell_type": "code",
   "execution_count": 56,
   "id": "9c540568-38ac-42d0-b592-b6b2575c7885",
   "metadata": {},
   "outputs": [
    {
     "name": "stdout",
     "output_type": "stream",
     "text": [
      "tensor([5, 6, 7, 8, 9])\n",
      "tensor([ 1,  6, 11])\n",
      "tensor(7)\n",
      "tensor([ 4,  9, 14])\n",
      "################################################## 1\n"
     ]
    }
   ],
   "source": [
    "print(x[1])\n",
    "print(x[:, 1])\n",
    "print(x[1, 2])\n",
    "print(x[:, -1]) # index can be minus\n",
    "\n",
    "print(\"#\" * 50, 1)"
   ]
  },
  {
   "cell_type": "code",
   "execution_count": 57,
   "id": "87e42d5f-6c16-435e-8d20-de43eac040f5",
   "metadata": {},
   "outputs": [
    {
     "name": "stdout",
     "output_type": "stream",
     "text": [
      "tensor([[ 5,  6,  7,  8,  9],\n",
      "        [10, 11, 12, 13, 14]])\n",
      "tensor([[ 8,  9],\n",
      "        [13, 14]])\n",
      "################################################## 2\n"
     ]
    }
   ],
   "source": [
    "print(x[1:])\n",
    "print(x[1:, 3:])\n",
    "\n",
    "print(\"#\" * 50, 2)"
   ]
  },
  {
   "cell_type": "code",
   "execution_count": 58,
   "id": "5694230e-e214-4a18-808c-87893573dd58",
   "metadata": {},
   "outputs": [
    {
     "name": "stdout",
     "output_type": "stream",
     "text": [
      "tensor([[0., 0., 0., 0., 0., 0.],\n",
      "        [0., 0., 1., 0., 0., 0.],\n",
      "        [0., 0., 1., 0., 0., 0.],\n",
      "        [0., 0., 1., 0., 0., 0.],\n",
      "        [0., 0., 0., 0., 0., 0.],\n",
      "        [0., 0., 0., 0., 0., 0.]])\n",
      "tensor([[0., 1., 0.],\n",
      "        [0., 1., 0.],\n",
      "        [0., 1., 0.]])\n",
      "################################################## 3\n"
     ]
    }
   ],
   "source": [
    "y = torch.zeros((6, 6))\n",
    "y[1:4, 2] = 1\n",
    "\n",
    "print(y)\n",
    "print(y[1:4, 1:4])\n",
    "\n",
    "print(\"#\" * 50, 3)"
   ]
  },
  {
   "cell_type": "code",
   "execution_count": 59,
   "id": "e3a0354c-c128-401f-99cd-957b783a689c",
   "metadata": {},
   "outputs": [
    {
     "name": "stdout",
     "output_type": "stream",
     "text": [
      "tensor([[1, 2, 3, 4],\n",
      "        [2, 3, 4, 5]])\n",
      "tensor([[3, 4],\n",
      "        [6, 7]])\n",
      "tensor([[2, 3, 4],\n",
      "        [3, 4, 5],\n",
      "        [6, 7, 8]])\n",
      "tensor([[1, 2, 3, 4],\n",
      "        [2, 0, 0, 5],\n",
      "        [5, 0, 0, 8]])\n"
     ]
    }
   ],
   "source": [
    "z = torch.tensor(\n",
    "    [[1, 2, 3, 4],\n",
    "     [2, 3, 4, 5],\n",
    "     [5, 6, 7, 8]]\n",
    ")\n",
    "\n",
    "print(z[:2])\n",
    "print(z[1:, 1:3])\n",
    "print(z[:, 1:])\n",
    "\n",
    "z[1:, 1:3] = 0\n",
    "print(z)"
   ]
  },
  {
   "cell_type": "markdown",
   "id": "f4d2d727-a7ab-49fd-83c9-bb8e97f20e2c",
   "metadata": {},
   "source": [
    "# k_tensor_reshaping.py"
   ]
  },
  {
   "cell_type": "code",
   "execution_count": 60,
   "id": "a94e3962-2a45-496d-b15d-31a692b78074",
   "metadata": {},
   "outputs": [],
   "source": [
    "import torch"
   ]
  },
  {
   "cell_type": "code",
   "execution_count": 61,
   "id": "e9aa282d-dfcb-42c2-b907-18e6a97d275b",
   "metadata": {},
   "outputs": [
    {
     "name": "stdout",
     "output_type": "stream",
     "text": [
      "tensor([[1, 2],\n",
      "        [3, 4],\n",
      "        [5, 6]])\n",
      "tensor([[1, 2, 3, 4, 5, 6]])\n",
      "tensor([[0, 1, 2, 3],\n",
      "        [4, 5, 6, 7]])\n",
      "tensor([[0, 1, 2],\n",
      "        [3, 4, 5]])\n",
      "################################################## 1\n"
     ]
    }
   ],
   "source": [
    "t1 = torch.tensor([[1, 2, 3], [4, 5, 6]])\n",
    "t2 = t1.view(3, 2)\n",
    "t3 = t1.reshape(1, 6)\n",
    "\n",
    "print(t2)\n",
    "print(t3)\n",
    "\n",
    "t4 = torch.arange(8).view(2, 4) # the parameter in arange() should be the multiple of view()'s parameters\n",
    "t5 = torch.arange(6).view(2, 3)\n",
    "\n",
    "print(t4)\n",
    "print(t5)\n",
    "\n",
    "print(\"#\" * 50, 1)"
   ]
  },
  {
   "cell_type": "code",
   "execution_count": 62,
   "id": "80626d95-099b-4076-ab44-59e5b4615262",
   "metadata": {},
   "outputs": [
    {
     "name": "stdout",
     "output_type": "stream",
     "text": [
      "tensor([1, 2, 3])\n",
      "tensor([[1],\n",
      "        [2],\n",
      "        [3]])\n",
      "################################################## 2\n"
     ]
    }
   ],
   "source": [
    "t6 = torch.tensor([[[1], [2], [3]]]) # tensor shape = (1, 3, 1)\n",
    "t7 = t6.squeeze() # remove all dimensions of size 1, tensor shape = (3, )\n",
    "t8 = t6.squeeze(0) # remove dimension at position 0, tensor shape = (3, 1)\n",
    "# 압축\n",
    "\n",
    "print(t7)\n",
    "print(t8)\n",
    "\n",
    "print(\"#\" * 50, 2)"
   ]
  },
  {
   "cell_type": "code",
   "execution_count": 63,
   "id": "69b2b784-d2a8-4a5d-8ac8-2eeb8a1af96c",
   "metadata": {},
   "outputs": [
    {
     "name": "stdout",
     "output_type": "stream",
     "text": [
      "tensor([1, 2, 3])\n",
      "tensor([[1],\n",
      "        [2],\n",
      "        [3]])\n",
      "tensor([[[1, 2, 3]],\n",
      "\n",
      "        [[4, 5, 6]]]) torch.Size([2, 1, 3])\n",
      "################################################## 3\n"
     ]
    }
   ],
   "source": [
    "t9 = torch.tensor([1, 2, 3]) # original shape = (3, )\n",
    "t10 = t9.unsqueeze(1) # reshaped shape = (3, 1)\n",
    "\n",
    "print(t9)\n",
    "print(t10)\n",
    "\n",
    "t11 = torch.tensor( # origianl shape = (2, 3)\n",
    "    [[1, 2, 3],\n",
    "     [4, 5, 6]]\n",
    ")\n",
    "t12 = t11.unsqueeze(1) # reshaped shape = (2, 1, 3)\n",
    "\n",
    "print(t12, t12.shape)\n",
    "\n",
    "print(\"#\" * 50, 3)"
   ]
  },
  {
   "cell_type": "code",
   "execution_count": 64,
   "id": "42fd8c86-0fe7-4362-ae7c-025809a62107",
   "metadata": {},
   "outputs": [
    {
     "name": "stdout",
     "output_type": "stream",
     "text": [
      "tensor([1, 2, 3, 4, 5, 6])\n",
      "tensor([1, 2, 3, 4, 5, 6, 7, 8])\n",
      "tensor([[1, 2, 3, 4],\n",
      "        [5, 6, 7, 8]])\n",
      "################################################## 4\n"
     ]
    }
   ],
   "source": [
    "t13 = torch.tensor([[1, 2, 3], [4, 5, 6]]) # origianl shape = (2, 3)\n",
    "t14 = t13.flatten() # make tensor flat\n",
    "\n",
    "print(t14)\n",
    "\n",
    "t15 = torch.tensor([[[1, 2], [3, 4]], [[5, 6], [7, 8]]])\n",
    "t16 = torch.flatten(t15)\n",
    "t17 = torch.flatten(t15, start_dim = 1) # make flat from start_dim to end_dim\n",
    "\n",
    "print(t16)\n",
    "print(t17)\n",
    "\n",
    "print(\"#\" * 50, 4)"
   ]
  },
  {
   "cell_type": "code",
   "execution_count": 65,
   "id": "3448c5e0-f88e-4d06-b9ed-d99857958bd9",
   "metadata": {},
   "outputs": [
    {
     "name": "stdout",
     "output_type": "stream",
     "text": [
      "torch.Size([2, 3, 5])\n",
      "torch.Size([5, 2, 3])\n",
      "tensor([[1, 2, 3],\n",
      "        [4, 5, 6]])\n",
      "tensor([[1, 4],\n",
      "        [2, 5],\n",
      "        [3, 6]])\n",
      "tensor([[1, 4],\n",
      "        [2, 5],\n",
      "        [3, 6]])\n",
      "tensor([[1, 4],\n",
      "        [2, 5],\n",
      "        [3, 6]])\n"
     ]
    }
   ],
   "source": [
    "t18 = torch.randn(2, 3, 5)\n",
    "print(t18.shape)\n",
    "print(torch.permute(t18, (2, 0, 1)).size()) # change dimension corresponding index\n",
    "# index 0 : 2, index 1 : 3, index 2 : 5\n",
    "# index 2, 0, 1 -> dimension 5, 2, 3\n",
    "\n",
    "t19 = torch.tensor([[1, 2, 3], [4, 5, 6]]) # shape (2, 3)\n",
    "t20 = torch.permute(t19, dims=(0, 1)) # becomes (2, 3)\n",
    "t21 = torch.permute(t19, dims=(1, 0)) # becomes (3, 2)\n",
    "\n",
    "print(t20)\n",
    "print(t21)\n",
    "\n",
    "t22 = torch.transpose(t19, 0, 1)\n",
    "\n",
    "print(t22)\n",
    "\n",
    "t23 = torch.t(t19)\n",
    "\n",
    "print(t23)"
   ]
  },
  {
   "cell_type": "markdown",
   "id": "d8e468af-9dde-4760-81f9-eebc64f48e75",
   "metadata": {},
   "source": [
    "# l_tensor_concat.py"
   ]
  },
  {
   "cell_type": "code",
   "execution_count": 66,
   "id": "be37f417-93a6-4a2f-aa5e-efd4c82e7a7f",
   "metadata": {},
   "outputs": [],
   "source": [
    "import torch"
   ]
  },
  {
   "cell_type": "code",
   "execution_count": 67,
   "id": "0840d756-d214-473f-a8eb-059c8974e49e",
   "metadata": {},
   "outputs": [
    {
     "name": "stdout",
     "output_type": "stream",
     "text": [
      "torch.Size([2, 6, 3])\n",
      "################################################## 1\n"
     ]
    }
   ],
   "source": [
    "t1 = torch.zeros([2, 1, 3])\n",
    "t2 = torch.zeros([2, 3, 3])\n",
    "t3 = torch.zeros([2, 2, 3])\n",
    "t4 = torch.cat([t1, t2, t3], dim = 1)\n",
    "\n",
    "print(t4.shape)\n",
    "\n",
    "print(\"#\" * 50, 1)"
   ]
  },
  {
   "cell_type": "code",
   "execution_count": 68,
   "id": "38835192-8c84-4230-aa85-91de9662f3be",
   "metadata": {},
   "outputs": [
    {
     "name": "stdout",
     "output_type": "stream",
     "text": [
      "torch.Size([8])\n",
      "tensor([0, 1, 2, 3, 4, 5, 6, 7])\n",
      "################################################## 2\n"
     ]
    }
   ],
   "source": [
    "t5 = torch.arange(0, 3)\n",
    "t6 = torch.arange(3, 8)\n",
    "t7 = torch.cat((t5, t6), dim = 0)\n",
    "\n",
    "print(t7.shape)\n",
    "print(t7)\n",
    "\n",
    "print(\"#\" * 50, 2)"
   ]
  },
  {
   "cell_type": "code",
   "execution_count": 69,
   "id": "e0655060-4ec9-487d-b753-d01ae29594b8",
   "metadata": {},
   "outputs": [
    {
     "name": "stdout",
     "output_type": "stream",
     "text": [
      "torch.Size([4, 3])\n",
      "tensor([[ 0,  1,  2],\n",
      "        [ 3,  4,  5],\n",
      "        [ 6,  7,  8],\n",
      "        [ 9, 10, 11]])\n",
      "torch.Size([2, 6])\n",
      "tensor([[ 0,  1,  2,  6,  7,  8],\n",
      "        [ 3,  4,  5,  9, 10, 11]])\n",
      "################################################## 3\n"
     ]
    }
   ],
   "source": [
    "t8 = torch.arange(0, 6).reshape(2, 3)\n",
    "t9 = torch.arange(6, 12).reshape(2, 3)\n",
    "t10 = torch.cat((t8, t9), dim = 0)\n",
    "\n",
    "print(t10.size())\n",
    "print(t10)\n",
    "\n",
    "t11 = torch.cat((t8, t9), dim = 1)\n",
    "\n",
    "print(t11.size())\n",
    "print(t11)\n",
    "\n",
    "print(\"#\" * 50, 3)"
   ]
  },
  {
   "cell_type": "code",
   "execution_count": 70,
   "id": "91f9c316-880e-41c9-bd9a-574424d86769",
   "metadata": {},
   "outputs": [
    {
     "name": "stdout",
     "output_type": "stream",
     "text": [
      "torch.Size([6, 3])\n",
      "tensor([[ 0,  1,  2],\n",
      "        [ 3,  4,  5],\n",
      "        [ 6,  7,  8],\n",
      "        [ 9, 10, 11],\n",
      "        [12, 13, 14],\n",
      "        [15, 16, 17]])\n",
      "torch.Size([2, 9])\n",
      "tensor([[ 0,  1,  2,  6,  7,  8, 12, 13, 14],\n",
      "        [ 3,  4,  5,  9, 10, 11, 15, 16, 17]])\n",
      "################################################## 4\n"
     ]
    }
   ],
   "source": [
    "t12 = torch.arange(0, 6).reshape(2, 3)\n",
    "t13 = torch.arange(6, 12).reshape(2, 3)\n",
    "t14 = torch.arange(12, 18).reshape(2, 3)\n",
    "t15 = torch.cat((t12, t13, t14), dim = 0)\n",
    "\n",
    "print(t15.size())\n",
    "print(t15)\n",
    "\n",
    "t16 = torch.cat((t12, t13, t14), dim = 1)\n",
    "print(t16.size())\n",
    "print(t16)\n",
    "\n",
    "print(\"#\" * 50, 4)"
   ]
  },
  {
   "cell_type": "code",
   "execution_count": 71,
   "id": "ce58202a-ba60-4545-a302-99fa7dd0c1d2",
   "metadata": {},
   "outputs": [
    {
     "name": "stdout",
     "output_type": "stream",
     "text": [
      "torch.Size([2, 2, 3])\n",
      "tensor([[[ 0,  1,  2],\n",
      "         [ 3,  4,  5]],\n",
      "\n",
      "        [[ 6,  7,  8],\n",
      "         [ 9, 10, 11]]])\n",
      "torch.Size([1, 4, 3])\n",
      "tensor([[[ 0,  1,  2],\n",
      "         [ 3,  4,  5],\n",
      "         [ 6,  7,  8],\n",
      "         [ 9, 10, 11]]])\n",
      "torch.Size([1, 2, 6])\n",
      "tensor([[[ 0,  1,  2,  6,  7,  8],\n",
      "         [ 3,  4,  5,  9, 10, 11]]])\n"
     ]
    }
   ],
   "source": [
    "t17 = torch.arange(0, 6).reshape(1, 2, 3)\n",
    "t18 = torch.arange(6, 12).reshape(1, 2, 3)\n",
    "t19 = torch.cat((t17, t18), dim = 0)\n",
    "\n",
    "print(t19.size())\n",
    "print(t19)\n",
    "\n",
    "t20 = torch.cat((t17, t18), dim = 1)\n",
    "\n",
    "print(t20.size())\n",
    "print(t20)\n",
    "\n",
    "t21 = torch.cat((t17, t18), dim = 2)\n",
    "\n",
    "print(t21.size())\n",
    "print(t21)"
   ]
  },
  {
   "cell_type": "markdown",
   "id": "3b6ddd0c-b800-411c-b6a9-e9fcf26cba7b",
   "metadata": {},
   "source": [
    "# m_tensor_stacking.py"
   ]
  },
  {
   "cell_type": "code",
   "execution_count": 72,
   "id": "0593d8ed-5e80-4e1a-bf8f-0225925d7420",
   "metadata": {},
   "outputs": [],
   "source": [
    "import torch"
   ]
  },
  {
   "cell_type": "code",
   "execution_count": 73,
   "id": "1d64a9c1-9c8a-4176-b83a-9d4144ab175c",
   "metadata": {},
   "outputs": [
    {
     "name": "stdout",
     "output_type": "stream",
     "text": [
      "torch.Size([2, 2, 3]) True\n",
      "torch.Size([2, 2, 3]) True\n",
      "torch.Size([2, 3, 2]) True\n",
      "################################################## 1\n"
     ]
    }
   ],
   "source": [
    "t1 = torch.tensor([[1, 2, 3], [4, 5, 6]])\n",
    "t2 = torch.tensor([[7, 8, 9], [10, 11, 12]])\n",
    "t3 = torch.stack([t1, t2], dim = 0) # not only catenate both tensor, but also extend dimension\n",
    "t4 = torch.cat([t1.unsqueeze(dim = 0), t2.unsqueeze(dim = 0)], dim = 0) # as same as stacking tensor\n",
    "\n",
    "print(t3.shape, t3.equal(t4))\n",
    "\n",
    "t5 = torch.stack([t1, t2], dim = 1)\n",
    "t6 = torch.cat([t1.unsqueeze(dim = 1), t2.unsqueeze(dim = 1)], dim = 1)\n",
    "\n",
    "print(t5.shape, t5.equal(t6))\n",
    "\n",
    "t7 = torch.stack([t1, t2], dim = 2)\n",
    "t8 = torch.cat([t1.unsqueeze(dim = 2), t2.unsqueeze(dim = 2)], dim = 2)\n",
    "\n",
    "print(t7.shape, t7.equal(t8))\n",
    "\n",
    "print(\"#\" * 50, 1)"
   ]
  },
  {
   "cell_type": "code",
   "execution_count": 74,
   "id": "deeb9d76-f0c8-4043-a4e1-a2f5aed39602",
   "metadata": {},
   "outputs": [
    {
     "name": "stdout",
     "output_type": "stream",
     "text": [
      "torch.Size([3]) torch.Size([3])\n",
      "torch.Size([2, 3])\n",
      "tensor([[0, 1, 2],\n",
      "        [3, 4, 5]])\n",
      "True\n",
      "torch.Size([3, 2])\n",
      "tensor([[0, 3],\n",
      "        [1, 4],\n",
      "        [2, 5]])\n",
      "True\n"
     ]
    }
   ],
   "source": [
    "t9 = torch.arange(0, 3)\n",
    "t10 = torch.arange(3, 6)\n",
    "\n",
    "print(t9.size(), t10.size())\n",
    "\n",
    "t11 = torch.stack((t9, t10), dim = 0)\n",
    "\n",
    "print(t11.size())\n",
    "print(t11)\n",
    "\n",
    "t12 = torch.cat((t9.unsqueeze(0), t10.unsqueeze(0)), dim = 0)\n",
    "\n",
    "print(t11.equal(t12))\n",
    "\n",
    "t13 = torch.stack((t9, t10), dim = 1)\n",
    "\n",
    "print(t13.size())\n",
    "print(t13)\n",
    "\n",
    "t14 = torch.cat((t9.unsqueeze(1), t10.unsqueeze(1)), dim = 1)\n",
    "\n",
    "print(t13.equal(t14))"
   ]
  },
  {
   "cell_type": "markdown",
   "id": "5b66401e-df12-4d47-a851-80f53d819c31",
   "metadata": {},
   "source": [
    "# n_tensor_vstack_hstack.py"
   ]
  },
  {
   "cell_type": "code",
   "execution_count": 75,
   "id": "82c890e5-391f-4b8c-aebe-14ca4feaaf5e",
   "metadata": {},
   "outputs": [],
   "source": [
    "import torch"
   ]
  },
  {
   "cell_type": "code",
   "execution_count": 76,
   "id": "90173807-223b-4dc9-aa4f-2e958033428e",
   "metadata": {},
   "outputs": [
    {
     "name": "stdout",
     "output_type": "stream",
     "text": [
      "tensor([[1, 2, 3],\n",
      "        [4, 5, 6]])\n",
      "tensor([[1],\n",
      "        [2],\n",
      "        [3],\n",
      "        [4],\n",
      "        [5],\n",
      "        [6]])\n",
      "torch.Size([2, 2, 3])\n",
      "torch.Size([2, 2, 3])\n",
      "tensor([[[13, 14, 15],\n",
      "         [16, 17, 18]],\n",
      "\n",
      "        [[19, 20, 21],\n",
      "         [22, 23, 24]]])\n",
      "torch.Size([4, 2, 3])\n",
      "tensor([[[ 1,  2,  3],\n",
      "         [ 4,  5,  6]],\n",
      "\n",
      "        [[ 7,  8,  9],\n",
      "         [10, 11, 12]],\n",
      "\n",
      "        [[13, 14, 15],\n",
      "         [16, 17, 18]],\n",
      "\n",
      "        [[19, 20, 21],\n",
      "         [22, 23, 24]]])\n",
      "################################################## 1\n"
     ]
    }
   ],
   "source": [
    "t1 = torch.tensor([1, 2, 3])\n",
    "t2 = torch.tensor([4, 5, 6])\n",
    "t3 = torch.vstack((t1, t2)) # stack vertically, which means 수직으로, 위아래로\n",
    "\n",
    "print(t3)\n",
    "\n",
    "t4 = torch.tensor([[1], [2], [3]])\n",
    "t5 = torch.tensor([[4], [5], [6]])\n",
    "t6 = torch.vstack((t4, t5))\n",
    "\n",
    "print(t6)\n",
    "\n",
    "t7 = torch.tensor(\n",
    "    [[[1, 2, 3], [4, 5, 6]],\n",
    "     [[7, 8, 9], [10, 11, 12]]]\n",
    ")\n",
    "\n",
    "print(t7.shape)\n",
    "\n",
    "t8 = torch.tensor(\n",
    "    [[[13, 14, 15], [16, 17, 18]],\n",
    "     [[19, 20, 21], [22, 23, 24]]]\n",
    ")\n",
    "\n",
    "print(t8.shape)\n",
    "print(t8)\n",
    "\n",
    "t9 = torch.vstack([t7, t8])\n",
    "\n",
    "print(t9.shape)\n",
    "print(t9)\n",
    "\n",
    "print(\"#\" * 50, 1)"
   ]
  },
  {
   "cell_type": "code",
   "execution_count": 77,
   "id": "add83377-1eed-4938-9966-cd5b6f4351cf",
   "metadata": {},
   "outputs": [
    {
     "name": "stdout",
     "output_type": "stream",
     "text": [
      "tensor([1, 2, 3, 4, 5, 6])\n",
      "tensor([[1, 4],\n",
      "        [2, 5],\n",
      "        [3, 6]])\n",
      "torch.Size([2, 2, 3])\n",
      "torch.Size([2, 2, 3])\n",
      "torch.Size([2, 4, 3])\n",
      "tensor([[[ 1,  2,  3],\n",
      "         [ 4,  5,  6],\n",
      "         [13, 14, 15],\n",
      "         [16, 17, 18]],\n",
      "\n",
      "        [[ 7,  8,  9],\n",
      "         [10, 11, 12],\n",
      "         [19, 20, 21],\n",
      "         [22, 23, 24]]])\n"
     ]
    }
   ],
   "source": [
    "t10 = torch.tensor([1, 2, 3])\n",
    "t11 = torch.tensor([4, 5, 6])\n",
    "t12 = torch.hstack((t10, t11))\n",
    "\n",
    "print(t12)\n",
    "\n",
    "t13 = torch.tensor([[1], [2], [3]])\n",
    "t14 = torch.tensor([[4], [5], [6]])\n",
    "t15 = torch.hstack((t13, t14))\n",
    "\n",
    "print(t15)\n",
    "\n",
    "t16 = torch.tensor(\n",
    "    [[[1, 2, 3], [4, 5, 6]],\n",
    "     [[7, 8, 9], [10, 11, 12]]]\n",
    ")\n",
    "\n",
    "print(t16.shape)\n",
    "\n",
    "t17 = torch.tensor(\n",
    "    [[[13, 14, 15], [16, 17, 18]],\n",
    "     [[19, 20, 21], [22, 23, 24]]]\n",
    ")\n",
    "\n",
    "print(t17.shape)\n",
    "\n",
    "t18 = torch.hstack([t16, t17])\n",
    "\n",
    "print(t18.shape)\n",
    "print(t18)"
   ]
  },
  {
   "cell_type": "markdown",
   "id": "58f60a94-b591-476f-bf81-c6764336b87d",
   "metadata": {},
   "source": [
    "## 취득한 기술적 사항 / 고찰"
   ]
  },
  {
   "cell_type": "markdown",
   "id": "f03ef259-d9c8-4192-b425-4304a150d17b",
   "metadata": {},
   "source": [
    "- tensor는 numpy와 생김새가 유사하지만, 쓰임새가 다르다.\n",
    "- tensor의 생성, 초기화, 형태, 차원 등 tensor의 속성들에 대해 학습했다.\n",
    "- tensor를 다루는 방법을 알게되었다.\n",
    "    - view를 통해 tensor의 구조를 변경하지 않고, 일부분을 참조할 수 있다.\n",
    "    - stack을 통해 tensor를 합칠 수 있다. 이때, 차원이 추가된다.\n",
    "- tensor 곱, 합 등의 연산이 가능하단 것을 알게 되었고, 이때 주의해야 할 제약사항이 있단 것을 알았다.\n",
    "    - 차원이 서로가 배수관계에 있을 때만 가능하다.\n",
    "    - 예시로 2, 3 차원은 불가능하다.\n",
    "    - 2, 4 차원은 가능하다.\n",
    "    - 위치가 일치하는 요소끼리 연산된다.\n",
    "    - 따로 행렬 곱처럼 tensor 연산을 해줄 수도 있다.\n",
    "    - 스칼라값과 연산시 모든 요소에 적용된다.\n",
    "- squeeze, unsqueeze를 통해 차원을 늘리거나 줄일 수 있다는 것을 알게 되었다.\n",
    "    - 차원이 늘거나 준다고 해서 요소의 개수가 바뀌진 않는다.\n",
    "- tensor 생성시 eye라는 함수를 통해 단위 행렬을 만들 수 있단 것을 알았다.\n",
    "    - 이후 one-hot vector 생성시 굉장히 유용하게 쓰일 것 같다."
   ]
  },
  {
   "cell_type": "markdown",
   "id": "ec44efe9-5f90-4228-9be5-ebe5745f5f46",
   "metadata": {},
   "source": [
    "## 숙제 후기"
   ]
  },
  {
   "cell_type": "markdown",
   "id": "bf1b3d96-ad1d-44f6-81dd-6be7077f5f4c",
   "metadata": {},
   "source": [
    "- hw1_2.ipynb에 작성하겠습니다."
   ]
  }
 ],
 "metadata": {
  "kernelspec": {
   "display_name": "Python 3 (ipykernel)",
   "language": "python",
   "name": "python3"
  },
  "language_info": {
   "codemirror_mode": {
    "name": "ipython",
    "version": 3
   },
   "file_extension": ".py",
   "mimetype": "text/x-python",
   "name": "python",
   "nbconvert_exporter": "python",
   "pygments_lexer": "ipython3",
   "version": "3.10.12"
  }
 },
 "nbformat": 4,
 "nbformat_minor": 5
}
